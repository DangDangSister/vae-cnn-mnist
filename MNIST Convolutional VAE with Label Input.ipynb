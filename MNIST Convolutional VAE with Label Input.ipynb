{
 "cells": [
  {
   "cell_type": "code",
   "execution_count": 1,
   "metadata": {
    "colab": {
     "autoexec": {
      "startup": false,
      "wait_interval": 0
     }
    },
    "colab_type": "code",
    "id": "Pcme_WDvPQIj"
   },
   "outputs": [],
   "source": [
    "%matplotlib inline\n",
    "import numpy as np\n",
    "import scipy as sp\n",
    "import matplotlib.pyplot as plt\n",
    "import seaborn as sns\n",
    "import pandas as pd\n",
    "sns.set()"
   ]
  },
  {
   "cell_type": "code",
   "execution_count": 2,
   "metadata": {
    "colab": {
     "autoexec": {
      "startup": false,
      "wait_interval": 0
     },
     "base_uri": "https://localhost:8080/",
     "height": 34
    },
    "colab_type": "code",
    "executionInfo": {
     "elapsed": 1371,
     "status": "ok",
     "timestamp": 1533600955562,
     "user": {
      "displayName": "Eric Zhang",
      "photoUrl": "https://lh3.googleusercontent.com/a/default-user=s128",
      "userId": "112904065289332618475"
     },
     "user_tz": 300
    },
    "id": "AI2eaSA_PQIp",
    "outputId": "09f46eb5-0d77-41e9-951e-5fce2c83c057"
   },
   "outputs": [
    {
     "name": "stderr",
     "output_type": "stream",
     "text": [
      "Using TensorFlow backend.\n"
     ]
    }
   ],
   "source": [
    "from keras.datasets import mnist\n",
    "from keras.models import Sequential, Model\n",
    "from keras.layers import Conv2D, Activation, Dense, Lambda, Input, MaxPooling2D, Dropout, Flatten, Reshape, UpSampling2D, Concatenate\n",
    "from keras.losses import mse, binary_crossentropy\n",
    "from keras import backend as K\n",
    "from keras.utils import plot_model, to_categorical"
   ]
  },
  {
   "cell_type": "code",
   "execution_count": 3,
   "metadata": {
    "colab": {
     "autoexec": {
      "startup": false,
      "wait_interval": 0
     },
     "base_uri": "https://localhost:8080/",
     "height": 51
    },
    "colab_type": "code",
    "executionInfo": {
     "elapsed": 827,
     "status": "ok",
     "timestamp": 1533600956404,
     "user": {
      "displayName": "Eric Zhang",
      "photoUrl": "https://lh3.googleusercontent.com/a/default-user=s128",
      "userId": "112904065289332618475"
     },
     "user_tz": 300
    },
    "id": "d83FuuGfPQI2",
    "outputId": "27d6706f-2469-4868-eaa5-8cf011e452f9"
   },
   "outputs": [
    {
     "name": "stdout",
     "output_type": "stream",
     "text": [
      "(60000, 784) (60000, 10)\n",
      "(10000, 784) (10000, 10)\n"
     ]
    }
   ],
   "source": [
    "(x_train, y_train), (x_test, y_test) = mnist.load_data()\n",
    "x_train = x_train.reshape((-1, 784)).astype('float32') / 255.0\n",
    "x_test = x_test.reshape((-1, 784)).astype('float32') / 255.0\n",
    "y_train = to_categorical(y_train, 10)\n",
    "y_test = to_categorical(y_test, 10)\n",
    "print(x_train.shape, y_train.shape)\n",
    "print(x_test.shape, y_test.shape)"
   ]
  },
  {
   "cell_type": "code",
   "execution_count": 4,
   "metadata": {
    "colab": {
     "autoexec": {
      "startup": false,
      "wait_interval": 0
     }
    },
    "colab_type": "code",
    "id": "4qh4zwCVPQJL"
   },
   "outputs": [],
   "source": [
    "# reparameterization trick\n",
    "# instead of sampling from Q(z|X), sample eps = N(0,I)\n",
    "# z = z_mean + sqrt(var)*eps\n",
    "def sampling(args):\n",
    "    \"\"\"Reparameterization trick by sampling fr an isotropic unit Gaussian.\n",
    "    # Arguments:\n",
    "        args (tensor): mean and log of variance of Q(z|X)\n",
    "    # Returns:\n",
    "        z (tensor): sampled latent vector\n",
    "    \"\"\"\n",
    "    z_mean, z_log_var = args\n",
    "    batch = K.shape(z_mean)[0]\n",
    "    dim = K.int_shape(z_mean)[1]\n",
    "    # by default, random_normal has mean=0 and std=1.0\n",
    "    epsilon = K.random_normal(shape=(batch, dim))\n",
    "    return z_mean + K.exp(0.5 * z_log_var) * epsilon"
   ]
  },
  {
   "cell_type": "code",
   "execution_count": 5,
   "metadata": {
    "colab": {
     "autoexec": {
      "startup": false,
      "wait_interval": 0
     },
     "base_uri": "https://localhost:8080/",
     "height": 1309
    },
    "colab_type": "code",
    "executionInfo": {
     "elapsed": 1258,
     "status": "ok",
     "timestamp": 1533600962363,
     "user": {
      "displayName": "Eric Zhang",
      "photoUrl": "https://lh3.googleusercontent.com/a/default-user=s128",
      "userId": "112904065289332618475"
     },
     "user_tz": 300
    },
    "id": "koDs7qHaPQJP",
    "outputId": "1f9aef81-306b-43a6-80b4-aff1f6e2996c"
   },
   "outputs": [
    {
     "name": "stdout",
     "output_type": "stream",
     "text": [
      "__________________________________________________________________________________________________\n",
      "Layer (type)                    Output Shape         Param #     Connected to                     \n",
      "==================================================================================================\n",
      "input_1 (InputLayer)            (None, 784)          0                                            \n",
      "__________________________________________________________________________________________________\n",
      "reshape_1 (Reshape)             (None, 28, 28, 1)    0           input_1[0][0]                    \n",
      "__________________________________________________________________________________________________\n",
      "conv2d_1 (Conv2D)               (None, 28, 28, 32)   320         reshape_1[0][0]                  \n",
      "__________________________________________________________________________________________________\n",
      "conv2d_2 (Conv2D)               (None, 28, 28, 32)   9248        conv2d_1[0][0]                   \n",
      "__________________________________________________________________________________________________\n",
      "max_pooling2d_1 (MaxPooling2D)  (None, 14, 14, 32)   0           conv2d_2[0][0]                   \n",
      "__________________________________________________________________________________________________\n",
      "dropout_1 (Dropout)             (None, 14, 14, 32)   0           max_pooling2d_1[0][0]            \n",
      "__________________________________________________________________________________________________\n",
      "flatten_1 (Flatten)             (None, 6272)         0           dropout_1[0][0]                  \n",
      "__________________________________________________________________________________________________\n",
      "dense_1 (Dense)                 (None, 128)          802944      flatten_1[0][0]                  \n",
      "__________________________________________________________________________________________________\n",
      "z_mean (Dense)                  (None, 4)            516         dense_1[0][0]                    \n",
      "__________________________________________________________________________________________________\n",
      "z_log_var (Dense)               (None, 4)            516         dense_1[0][0]                    \n",
      "__________________________________________________________________________________________________\n",
      "z (Lambda)                      (None, 4)            0           z_mean[0][0]                     \n",
      "                                                                 z_log_var[0][0]                  \n",
      "==================================================================================================\n",
      "Total params: 813,544\n",
      "Trainable params: 813,544\n",
      "Non-trainable params: 0\n",
      "__________________________________________________________________________________________________\n",
      "__________________________________________________________________________________________________\n",
      "Layer (type)                    Output Shape         Param #     Connected to                     \n",
      "==================================================================================================\n",
      "z_sampling (InputLayer)         (None, 4)            0                                            \n",
      "__________________________________________________________________________________________________\n",
      "label (InputLayer)              (None, 10)           0                                            \n",
      "__________________________________________________________________________________________________\n",
      "concatenate_1 (Concatenate)     (None, 14)           0           z_sampling[0][0]                 \n",
      "                                                                 label[0][0]                      \n",
      "__________________________________________________________________________________________________\n",
      "dense_2 (Dense)                 (None, 128)          1920        concatenate_1[0][0]              \n",
      "__________________________________________________________________________________________________\n",
      "dense_3 (Dense)                 (None, 6272)         809088      dense_2[0][0]                    \n",
      "__________________________________________________________________________________________________\n",
      "reshape_2 (Reshape)             (None, 14, 14, 32)   0           dense_3[0][0]                    \n",
      "__________________________________________________________________________________________________\n",
      "dropout_2 (Dropout)             (None, 14, 14, 32)   0           reshape_2[0][0]                  \n",
      "__________________________________________________________________________________________________\n",
      "up_sampling2d_1 (UpSampling2D)  (None, 28, 28, 32)   0           dropout_2[0][0]                  \n",
      "__________________________________________________________________________________________________\n",
      "conv2d_3 (Conv2D)               (None, 28, 28, 32)   9248        up_sampling2d_1[0][0]            \n",
      "__________________________________________________________________________________________________\n",
      "conv2d_4 (Conv2D)               (None, 28, 28, 1)    289         conv2d_3[0][0]                   \n",
      "__________________________________________________________________________________________________\n",
      "reshape_3 (Reshape)             (None, 784)          0           conv2d_4[0][0]                   \n",
      "==================================================================================================\n",
      "Total params: 820,545\n",
      "Trainable params: 820,545\n",
      "Non-trainable params: 0\n",
      "__________________________________________________________________________________________________\n",
      "__________________________________________________________________________________________________\n",
      "Layer (type)                    Output Shape         Param #     Connected to                     \n",
      "==================================================================================================\n",
      "input_1 (InputLayer)            (None, 784)          0                                            \n",
      "__________________________________________________________________________________________________\n",
      "encoder (Model)                 [(None, 4), (None, 4 813544      input_1[0][0]                    \n",
      "__________________________________________________________________________________________________\n",
      "label (InputLayer)              (None, 10)           0                                            \n",
      "__________________________________________________________________________________________________\n",
      "decoder (Model)                 (None, 784)          820545      encoder[1][2]                    \n",
      "                                                                 label[0][0]                      \n",
      "==================================================================================================\n",
      "Total params: 1,634,089\n",
      "Trainable params: 1,634,089\n",
      "Non-trainable params: 0\n",
      "__________________________________________________________________________________________________\n"
     ]
    }
   ],
   "source": [
    "image_shape = (28, 28, 1)\n",
    "original_dim = image_shape[0] * image_shape[1]\n",
    "input_shape = (original_dim,)\n",
    "batch_size = 128\n",
    "latent_dim = 4\n",
    "epochs = 20\n",
    "\n",
    "# encoder\n",
    "inputs = Input(shape=input_shape)\n",
    "x = Reshape(image_shape)(inputs)\n",
    "x = Conv2D(32, (3, 3), activation='relu', padding='same')(x)\n",
    "x = Conv2D(32, (3, 3), activation='relu', padding='same')(x)\n",
    "x = MaxPooling2D((2, 2))(x)\n",
    "x = Dropout(0.25)(x)\n",
    "x = Flatten()(x)\n",
    "x = Dense(128, activation='relu')(x)\n",
    "z_mean = Dense(latent_dim, name='z_mean')(x)\n",
    "z_log_var = Dense(latent_dim, name='z_log_var')(x)\n",
    "z = Lambda(sampling, output_shape=(latent_dim,), name='z')([z_mean, z_log_var])\n",
    "\n",
    "encoder = Model(inputs, [z_mean, z_log_var, z], name='encoder')\n",
    "encoder.summary()\n",
    "plot_model(encoder, to_file='vae_cnn_encoder.png', show_shapes=True)\n",
    "\n",
    "# decoder\n",
    "latent_inputs = Input(shape=(latent_dim,), name='z_sampling')\n",
    "label_inputs = Input(shape=(10,), name='label')\n",
    "x = Concatenate()([latent_inputs, label_inputs])\n",
    "x = Dense(128, activation='relu')(x)\n",
    "x = Dense(14 * 14 * 32, activation='relu')(x)\n",
    "x = Reshape((14, 14, 32))(x)\n",
    "x = Dropout(0.25)(x)\n",
    "x = UpSampling2D((2, 2))(x)\n",
    "x = Conv2D(32, (3, 3), activation='relu', padding='same')(x)\n",
    "x = Conv2D(1, (3, 3), activation='sigmoid', padding='same')(x)\n",
    "outputs = Reshape(input_shape)(x)\n",
    "\n",
    "decoder = Model([latent_inputs, label_inputs], outputs, name='decoder')\n",
    "decoder.summary()\n",
    "plot_model(decoder, to_file='vae_cnn_decoder.png', show_shapes=True)\n",
    "\n",
    "# variational autoencoder\n",
    "outputs = decoder([encoder(inputs)[2], label_inputs])\n",
    "vae = Model([inputs, label_inputs], outputs, name='vae_mlp')\n",
    "vae.summary()\n",
    "plot_model(vae, to_file='vae_cnn.png', show_shapes=True)"
   ]
  },
  {
   "cell_type": "code",
   "execution_count": 6,
   "metadata": {
    "colab": {
     "autoexec": {
      "startup": false,
      "wait_interval": 0
     },
     "base_uri": "https://localhost:8080/",
     "height": 71
    },
    "colab_type": "code",
    "executionInfo": {
     "elapsed": 166,
     "status": "ok",
     "timestamp": 1533600965385,
     "user": {
      "displayName": "Eric Zhang",
      "photoUrl": "https://lh3.googleusercontent.com/a/default-user=s128",
      "userId": "112904065289332618475"
     },
     "user_tz": 300
    },
    "id": "S2AK-c_3PQJW",
    "outputId": "62e00d98-7c9b-4c48-938d-1e7def7650d2"
   },
   "outputs": [],
   "source": [
    "reconstruction_loss = mse(inputs, outputs)\n",
    "reconstruction_loss *= original_dim\n",
    "kl_loss = 1 + z_log_var - K.square(z_mean) - K.exp(z_log_var)\n",
    "kl_loss = K.sum(kl_loss, axis=-1)\n",
    "kl_loss *= -0.5\n",
    "vae_loss = K.mean(reconstruction_loss + kl_loss)\n",
    "vae.add_loss(vae_loss)\n",
    "vae.compile(optimizer='adam')"
   ]
  },
  {
   "cell_type": "code",
   "execution_count": 7,
   "metadata": {
    "colab": {
     "autoexec": {
      "startup": false,
      "wait_interval": 0
     },
     "base_uri": "https://localhost:8080/",
     "height": 34
    },
    "colab_type": "code",
    "executionInfo": {
     "elapsed": 215,
     "status": "ok",
     "timestamp": 1533602507875,
     "user": {
      "displayName": "Eric Zhang",
      "photoUrl": "https://lh3.googleusercontent.com/a/default-user=s128",
      "userId": "112904065289332618475"
     },
     "user_tz": 300
    },
    "id": "zPHhCBsSPQJb",
    "outputId": "21c1c3b7-3394-4bc1-fe36-a6575a4293c7"
   },
   "outputs": [
    {
     "name": "stdout",
     "output_type": "stream",
     "text": [
      "Loaded weights!\n"
     ]
    }
   ],
   "source": [
    "import os\n",
    "\n",
    "weights_file = 'vae_cnn_mnist.h5'\n",
    "\n",
    "if os.path.exists(weights_file):\n",
    "    vae.load_weights(weights_file)\n",
    "    print('Loaded weights!')\n",
    "else:\n",
    "    vae.fit([x_train, y_train],\n",
    "            epochs=epochs,\n",
    "            batch_size=batch_size,\n",
    "            validation_data=([x_test, y_test], None))\n",
    "    vae.save_weights('vae_cnn_mnist.h5')"
   ]
  },
  {
   "cell_type": "code",
   "execution_count": 8,
   "metadata": {
    "colab": {
     "autoexec": {
      "startup": false,
      "wait_interval": 0
     },
     "base_uri": "https://localhost:8080/",
     "height": 191
    },
    "colab_type": "code",
    "executionInfo": {
     "elapsed": 4507,
     "status": "ok",
     "timestamp": 1533602516983,
     "user": {
      "displayName": "Eric Zhang",
      "photoUrl": "https://lh3.googleusercontent.com/a/default-user=s128",
      "userId": "112904065289332618475"
     },
     "user_tz": 300
    },
    "id": "lyGgL1U5U3lw",
    "outputId": "5c2c815b-ad7b-4e62-963c-c7ddb89cbda7"
   },
   "outputs": [
    {
     "data": {
      "image/png": "[encoded data removed]",
      "text/plain": [
       "<matplotlib.figure.Figure at 0x12d964d68>"
      ]
     },
     "metadata": {},
     "output_type": "display_data"
    }
   ],
   "source": [
    "fig, axes = plt.subplots(2, 10, figsize=(15, 3))\n",
    "\n",
    "def show(im):\n",
    "    sns.heatmap(im.reshape((28, 28)), cmap='Greys', cbar=False, square=True, )\n",
    "\n",
    "sample = np.random.randint(len(x_test), size=10)\n",
    "reconst = vae.predict([x_test[sample], y_test[sample]])\n",
    "\n",
    "for i in range(10):\n",
    "    axes[0, i].get_xaxis().set_visible(False)\n",
    "    axes[0, i].get_yaxis().set_visible(False)\n",
    "    plt.sca(axes[0, i])\n",
    "    show(x_test[sample[i]])\n",
    "    axes[1, i].get_xaxis().set_visible(False)\n",
    "    axes[1, i].get_yaxis().set_visible(False)\n",
    "    plt.sca(axes[1, i])\n",
    "    show(reconst[i])\n",
    "\n",
    "plt.show()"
   ]
  },
  {
   "cell_type": "code",
   "execution_count": 9,
   "metadata": {},
   "outputs": [
    {
     "name": "stderr",
     "output_type": "stream",
     "text": [
      "Widget Javascript not detected.  It may not be installed or enabled properly.\n"
     ]
    },
    {
     "data": {
      "application/vnd.jupyter.widget-view+json": {
       "model_id": "8c6eb9a22dc64b36a0dbec365cf31989"
      }
     },
     "metadata": {},
     "output_type": "display_data"
    }
   ],
   "source": [
    "from ipywidgets import interact, interact_manual\n",
    "\n",
    "def from_latent(num, vec):\n",
    "    vec = np.array(vec)\n",
    "    im = decoder.predict([vec.reshape(1, latent_dim), to_categorical([num], 10)]).reshape(28, 28)\n",
    "    return im\n",
    "\n",
    "@interact(num=(0,9),\n",
    "          x1=(-3., 3.), x2=(-3., 3.), x3=(-3., 3.), x4=(-3., 3.))\n",
    "def f(num, x1, x2, x3, x4):\n",
    "    plt.figure(2)\n",
    "    plt.axis('off')\n",
    "    im = from_latent(num, [x1, x2, x3, x4])\n",
    "    sns.heatmap(im, square=True, cmap='Greys', cbar=False)\n",
    "    plt.show()"
   ]
  },
  {
   "cell_type": "code",
   "execution_count": 10,
   "metadata": {},
   "outputs": [
    {
     "data": {
      "text/plain": [
       "<matplotlib.image.AxesImage at 0x12fd1e160>"
      ]
     },
     "execution_count": 10,
     "metadata": {},
     "output_type": "execute_result"
    },
    {
     "data": {
      "image/png": "[encoded data removed]",
      "text/plain": [
       "<matplotlib.figure.Figure at 0x12fc08eb8>"
      ]
     },
     "metadata": {},
     "output_type": "display_data"
    }
   ],
   "source": [
    "def digit_image(digit, latent=None):\n",
    "    if latent is None:\n",
    "        latent = np.random.randn(latent_dim)\n",
    "    return from_latent(digit, latent)\n",
    "\n",
    "def number_image(num):\n",
    "    latent = 0.8 * np.random.randn(latent_dim)\n",
    "    width = 16\n",
    "    digits = str(num)\n",
    "    result = np.zeros((28, width * len(digits) + (28 - width)))\n",
    "    for i, d in enumerate(digits):\n",
    "        result[:, width*i:width*i + 28] += digit_image(int(d), latent + 0.5 * np.random.randn(latent_dim))\n",
    "    result = np.minimum(result, 1.0)\n",
    "    return result\n",
    "\n",
    "plt.gray()\n",
    "plt.axis('off')\n",
    "plt.imshow(number_image(314159))"
   ]
  },
  {
   "cell_type": "code",
   "execution_count": 11,
   "metadata": {},
   "outputs": [],
   "source": [
    "def sample_images(num, rows=10, cols=5):\n",
    "    images = []\n",
    "    for i in range(rows):\n",
    "        current = []\n",
    "        for j in range(cols):\n",
    "            current.append(number_image(num))\n",
    "        images.append(np.concatenate(current, axis=1))\n",
    "    return np.concatenate(images)"
   ]
  },
  {
   "cell_type": "code",
   "execution_count": 12,
   "metadata": {},
   "outputs": [
    {
     "data": {
      "image/png": "[encoded data removed]",
      "text/plain": [
       "<matplotlib.figure.Figure at 0x12ebc58d0>"
      ]
     },
     "metadata": {},
     "output_type": "display_data"
    }
   ],
   "source": [
    "plt.gray()\n",
    "plt.axis('off')\n",
    "plt.imshow(1 - sample_images(65537))\n",
    "plt.savefig('sample.png')"
   ]
  }
 ],
 "metadata": {
  "accelerator": "GPU",
  "colab": {
   "default_view": {},
   "name": "MNIST Convolutional VAE with Label Input.ipynb",
   "provenance": [],
   "version": "0.3.2",
   "views": {}
  },
  "kernelspec": {
   "display_name": "Python 3",
   "language": "python",
   "name": "python3"
  },
  "language_info": {
   "codemirror_mode": {
    "name": "ipython",
    "version": 3
   },
   "file_extension": ".py",
   "mimetype": "text/x-python",
   "name": "python",
   "nbconvert_exporter": "python",
   "pygments_lexer": "ipython3",
   "version": "3.6.5"
  },
  "widgets": {
   "application/vnd.jupyter.widget-state+json": {
    "state": {
     "080d83a9a2b34b0ab0e0772cd2b17471": {
      "model_module": "jupyter-js-widgets",
      "model_module_version": "~2.1.4",
      "model_name": "LayoutModel",
      "state": {
       "_model_module_version": "~2.1.4",
       "_view_module_version": "~2.1.4"
      }
     },
     "0870ee8d593f49028d7d5a8dabc668d3": {
      "model_module": "jupyter-js-widgets",
      "model_module_version": "~2.1.4",
      "model_name": "LayoutModel",
      "state": {
       "_model_module_version": "~2.1.4",
       "_view_module_version": "~2.1.4"
      }
     },
     "1c4be544894a47759944d67afb9633be": {
      "model_module": "jupyter-js-widgets",
      "model_module_version": "~2.1.4",
      "model_name": "VBoxModel",
      "state": {
       "_dom_classes": [
        "widget-interact"
       ],
       "_model_module_version": "~2.1.4",
       "_view_module_version": "~2.1.4",
       "children": [
        "IPY_MODEL_b524a4f3a4f748e4b0acb65689e52381",
        "IPY_MODEL_7097995bea234acf93789f4f60de7c38",
        "IPY_MODEL_57bf7b2320164b91a543b0281f6c3e1c",
        "IPY_MODEL_923b01c086fb45f8987b30b96de85094",
        "IPY_MODEL_e392d6d50f5a4bfa900d7c6cac609446",
        "IPY_MODEL_a3c1b0b09ba44bfbab0a9f1843c4bee6"
       ],
       "layout": "IPY_MODEL_3d22e1ae53764e918040976fdf1f804c"
      }
     },
     "228d55d9b5d9407d92653c7192bd53de": {
      "model_module": "jupyter-js-widgets",
      "model_module_version": "~2.1.4",
      "model_name": "SliderStyleModel",
      "state": {
       "_model_module_version": "~2.1.4",
       "_view_module_version": "~2.1.4"
      }
     },
     "2b42ac5c9d3e46fd9e50b2da0c4206e6": {
      "model_module": "jupyter-js-widgets",
      "model_module_version": "~2.1.4",
      "model_name": "LayoutModel",
      "state": {
       "_model_module_version": "~2.1.4",
       "_view_module_version": "~2.1.4"
      }
     },
     "2bb4d302afa241399d923dfb153b5dd7": {
      "model_module": "jupyter-js-widgets",
      "model_module_version": "~2.1.4",
      "model_name": "FloatSliderModel",
      "state": {
       "_model_module_version": "~2.1.4",
       "_view_module_version": "~2.1.4",
       "description": "x2",
       "layout": "IPY_MODEL_304d4c07e711491fb84c95d8b3c7104d",
       "max": 3,
       "min": -3,
       "step": 0.1
      }
     },
     "2e7587c8a5334347911cc6f63704689b": {
      "model_module": "jupyter-js-widgets",
      "model_module_version": "~2.1.4",
      "model_name": "SliderStyleModel",
      "state": {
       "_model_module_version": "~2.1.4",
       "_view_module_version": "~2.1.4"
      }
     },
     "304d4c07e711491fb84c95d8b3c7104d": {
      "model_module": "jupyter-js-widgets",
      "model_module_version": "~2.1.4",
      "model_name": "LayoutModel",
      "state": {
       "_model_module_version": "~2.1.4",
       "_view_module_version": "~2.1.4"
      }
     },
     "3820f4850d5b4b4d86ad4d1fffeac168": {
      "model_module": "jupyter-js-widgets",
      "model_module_version": "~2.1.4",
      "model_name": "LayoutModel",
      "state": {
       "_model_module_version": "~2.1.4",
       "_view_module_version": "~2.1.4"
      }
     },
     "3a4f734c67d847e99f8674fc334ec6c1": {
      "model_module": "jupyter-js-widgets",
      "model_module_version": "~2.1.4",
      "model_name": "LayoutModel",
      "state": {
       "_model_module_version": "~2.1.4",
       "_view_module_version": "~2.1.4"
      }
     },
     "3d22e1ae53764e918040976fdf1f804c": {
      "model_module": "jupyter-js-widgets",
      "model_module_version": "~2.1.4",
      "model_name": "LayoutModel",
      "state": {
       "_model_module_version": "~2.1.4",
       "_view_module_version": "~2.1.4"
      }
     },
     "3d71aaa956544a3ab753ddf1c7a252f2": {
      "model_module": "jupyter-js-widgets",
      "model_module_version": "~2.1.4",
      "model_name": "LayoutModel",
      "state": {
       "_model_module_version": "~2.1.4",
       "_view_module_version": "~2.1.4"
      }
     },
     "57bf7b2320164b91a543b0281f6c3e1c": {
      "model_module": "jupyter-js-widgets",
      "model_module_version": "~2.1.4",
      "model_name": "FloatSliderModel",
      "state": {
       "_model_module_version": "~2.1.4",
       "_view_module_version": "~2.1.4",
       "description": "x2",
       "layout": "IPY_MODEL_e3545a4e4d3d4c819e50954e384f1743",
       "max": 3,
       "min": -3,
       "step": 0.1
      }
     },
     "57f4cd97ad324bf98dc8d9f64d5f2e34": {
      "model_module": "jupyter-js-widgets",
      "model_module_version": "~2.1.4",
      "model_name": "LayoutModel",
      "state": {
       "_model_module_version": "~2.1.4",
       "_view_module_version": "~2.1.4"
      }
     },
     "670c9dd37bf34fe4915dee2a0bd888fb": {
      "model_module": "jupyter-js-widgets",
      "model_module_version": "~2.1.4",
      "model_name": "FloatSliderModel",
      "state": {
       "_model_module_version": "~2.1.4",
       "_view_module_version": "~2.1.4",
       "description": "x1",
       "layout": "IPY_MODEL_840a9ac481194c7fbec6ed59f45d72ca",
       "max": 3,
       "min": -3,
       "step": 0.1,
       "value": -0.1
      }
     },
     "7097995bea234acf93789f4f60de7c38": {
      "model_module": "jupyter-js-widgets",
      "model_module_version": "~2.1.4",
      "model_name": "FloatSliderModel",
      "state": {
       "_model_module_version": "~2.1.4",
       "_view_module_version": "~2.1.4",
       "description": "x1",
       "layout": "IPY_MODEL_805146408fdc452ba095d2e43abcfa66",
       "max": 3,
       "min": -3,
       "step": 0.1
      }
     },
     "79128b62d1014228bab4bbee9baeba2d": {
      "model_module": "jupyter-js-widgets",
      "model_module_version": "~2.1.4",
      "model_name": "FloatSliderModel",
      "state": {
       "_model_module_version": "~2.1.4",
       "_view_module_version": "~2.1.4",
       "description": "x2",
       "layout": "IPY_MODEL_ed051251471a46f48d4cceca7b175212",
       "max": 3,
       "min": -3,
       "step": 0.1,
       "value": -0.3
      }
     },
     "7a4ee8b4ed394f33a2aa0ea83e5b56e7": {
      "model_module": "jupyter-js-widgets",
      "model_module_version": "~2.1.4",
      "model_name": "IntSliderModel",
      "state": {
       "_model_module_version": "~2.1.4",
       "_view_module_version": "~2.1.4",
       "description": "num",
       "layout": "IPY_MODEL_0870ee8d593f49028d7d5a8dabc668d3",
       "max": 9,
       "style": "IPY_MODEL_cf35ef0949e94a28af9f5aa60eda8281"
      }
     },
     "7b863cf28c594e8c861ba0bd54dc922a": {
      "model_module": "jupyter-js-widgets",
      "model_module_version": "~2.1.4",
      "model_name": "LayoutModel",
      "state": {
       "_model_module_version": "~2.1.4",
       "_view_module_version": "~2.1.4"
      }
     },
     "7db255b1042746fdaa56ac1e442805f5": {
      "model_module": "jupyter-js-widgets",
      "model_module_version": "~2.1.4",
      "model_name": "LayoutModel",
      "state": {
       "_model_module_version": "~2.1.4",
       "_view_module_version": "~2.1.4"
      }
     },
     "7eb53d782d9d4c9a806de3a92818d0e1": {
      "model_module": "jupyter-js-widgets",
      "model_module_version": "~2.1.4",
      "model_name": "VBoxModel",
      "state": {
       "_dom_classes": [
        "widget-interact"
       ],
       "_model_module_version": "~2.1.4",
       "_view_module_version": "~2.1.4",
       "children": [
        "IPY_MODEL_7a4ee8b4ed394f33a2aa0ea83e5b56e7",
        "IPY_MODEL_670c9dd37bf34fe4915dee2a0bd888fb",
        "IPY_MODEL_79128b62d1014228bab4bbee9baeba2d",
        "IPY_MODEL_9fd494d32f1b40c18dbb6d97126958db",
        "IPY_MODEL_8c2faa1ab6644ffcaa9ec57f5b444f83",
        "IPY_MODEL_82d77436ea1f4844be3254fdb037c2f4"
       ],
       "layout": "IPY_MODEL_3820f4850d5b4b4d86ad4d1fffeac168"
      }
     },
     "7f26cd77858044eaae0fcb335c258a32": {
      "model_module": "jupyter-js-widgets",
      "model_module_version": "~2.1.4",
      "model_name": "LayoutModel",
      "state": {
       "_model_module_version": "~2.1.4",
       "_view_module_version": "~2.1.4"
      }
     },
     "805146408fdc452ba095d2e43abcfa66": {
      "model_module": "jupyter-js-widgets",
      "model_module_version": "~2.1.4",
      "model_name": "LayoutModel",
      "state": {
       "_model_module_version": "~2.1.4",
       "_view_module_version": "~2.1.4"
      }
     },
     "82d77436ea1f4844be3254fdb037c2f4": {
      "model_module": "jupyter-js-widgets",
      "model_module_version": "~2.1.4",
      "model_name": "OutputModel",
      "state": {
       "_dom_classes": [],
       "_model_module": "jupyter-js-widgets",
       "_model_module_version": "~2.1.4",
       "_view_module": "jupyter-js-widgets",
       "_view_module_version": "~2.1.4",
       "layout": "IPY_MODEL_ad42aacbaa7b4805af40d66913cefa8b",
       "msg_throttle": 1
      }
     },
     "840a9ac481194c7fbec6ed59f45d72ca": {
      "model_module": "jupyter-js-widgets",
      "model_module_version": "~2.1.4",
      "model_name": "LayoutModel",
      "state": {
       "_model_module_version": "~2.1.4",
       "_view_module_version": "~2.1.4"
      }
     },
     "8b85fa3ea3504f0cbfc5bbbdbbdc83a6": {
      "model_module": "jupyter-js-widgets",
      "model_module_version": "~2.1.4",
      "model_name": "OutputModel",
      "state": {
       "_dom_classes": [],
       "_model_module": "jupyter-js-widgets",
       "_model_module_version": "~2.1.4",
       "_view_module": "jupyter-js-widgets",
       "_view_module_version": "~2.1.4",
       "layout": "IPY_MODEL_57f4cd97ad324bf98dc8d9f64d5f2e34",
       "msg_throttle": 1
      }
     },
     "8c2faa1ab6644ffcaa9ec57f5b444f83": {
      "model_module": "jupyter-js-widgets",
      "model_module_version": "~2.1.4",
      "model_name": "FloatSliderModel",
      "state": {
       "_model_module_version": "~2.1.4",
       "_view_module_version": "~2.1.4",
       "description": "x4",
       "layout": "IPY_MODEL_7f26cd77858044eaae0fcb335c258a32",
       "max": 3,
       "min": -3,
       "step": 0.1,
       "value": -0.5
      }
     },
     "8c6eb9a22dc64b36a0dbec365cf31989": {
      "model_module": "jupyter-js-widgets",
      "model_module_version": "~2.1.4",
      "model_name": "VBoxModel",
      "state": {
       "_dom_classes": [
        "widget-interact"
       ],
       "_model_module_version": "~2.1.4",
       "_view_module_version": "~2.1.4",
       "children": [
        "IPY_MODEL_c7c19e9b0cd440a887f974f282dfc118",
        "IPY_MODEL_b556b91e9c19411a8237f6343cbfdeb2",
        "IPY_MODEL_2bb4d302afa241399d923dfb153b5dd7",
        "IPY_MODEL_dc051619f9ba40cf9ef046f2db2f0136",
        "IPY_MODEL_eab829ae60794bb2b9de401695ea1cb7",
        "IPY_MODEL_8b85fa3ea3504f0cbfc5bbbdbbdc83a6"
       ],
       "layout": "IPY_MODEL_080d83a9a2b34b0ab0e0772cd2b17471"
      }
     },
     "923b01c086fb45f8987b30b96de85094": {
      "model_module": "jupyter-js-widgets",
      "model_module_version": "~2.1.4",
      "model_name": "FloatSliderModel",
      "state": {
       "_model_module_version": "~2.1.4",
       "_view_module_version": "~2.1.4",
       "description": "x3",
       "layout": "IPY_MODEL_3a4f734c67d847e99f8674fc334ec6c1",
       "max": 3,
       "min": -3,
       "step": 0.1
      }
     },
     "93bbe7de40a74bd483322c856d31a615": {
      "model_module": "jupyter-js-widgets",
      "model_module_version": "~2.1.4",
      "model_name": "LayoutModel",
      "state": {
       "_model_module_version": "~2.1.4",
       "_view_module_version": "~2.1.4"
      }
     },
     "99113e5302eb4b87a819c6e43a017879": {
      "model_module": "jupyter-js-widgets",
      "model_module_version": "~2.1.4",
      "model_name": "LayoutModel",
      "state": {
       "_model_module_version": "~2.1.4",
       "_view_module_version": "~2.1.4"
      }
     },
     "9fd494d32f1b40c18dbb6d97126958db": {
      "model_module": "jupyter-js-widgets",
      "model_module_version": "~2.1.4",
      "model_name": "FloatSliderModel",
      "state": {
       "_model_module_version": "~2.1.4",
       "_view_module_version": "~2.1.4",
       "description": "x3",
       "layout": "IPY_MODEL_7db255b1042746fdaa56ac1e442805f5",
       "max": 3,
       "min": -3,
       "step": 0.1,
       "value": -0.7
      }
     },
     "a3c1b0b09ba44bfbab0a9f1843c4bee6": {
      "model_module": "jupyter-js-widgets",
      "model_module_version": "~2.1.4",
      "model_name": "OutputModel",
      "state": {
       "_dom_classes": [],
       "_model_module": "jupyter-js-widgets",
       "_model_module_version": "~2.1.4",
       "_view_module": "jupyter-js-widgets",
       "_view_module_version": "~2.1.4",
       "layout": "IPY_MODEL_ce17e9c4e58549d3b72b513ed7c25605",
       "msg_throttle": 1
      }
     },
     "ab212c5eb15646c394de2fd037be6efa": {
      "model_module": "jupyter-js-widgets",
      "model_module_version": "~2.1.4",
      "model_name": "LayoutModel",
      "state": {
       "_model_module_version": "~2.1.4",
       "_view_module_version": "~2.1.4"
      }
     },
     "ad42aacbaa7b4805af40d66913cefa8b": {
      "model_module": "jupyter-js-widgets",
      "model_module_version": "~2.1.4",
      "model_name": "LayoutModel",
      "state": {
       "_model_module_version": "~2.1.4",
       "_view_module_version": "~2.1.4"
      }
     },
     "b524a4f3a4f748e4b0acb65689e52381": {
      "model_module": "jupyter-js-widgets",
      "model_module_version": "~2.1.4",
      "model_name": "IntSliderModel",
      "state": {
       "_model_module_version": "~2.1.4",
       "_view_module_version": "~2.1.4",
       "description": "num",
       "layout": "IPY_MODEL_7b863cf28c594e8c861ba0bd54dc922a",
       "max": 9,
       "style": "IPY_MODEL_2e7587c8a5334347911cc6f63704689b",
       "value": 4
      }
     },
     "b556b91e9c19411a8237f6343cbfdeb2": {
      "model_module": "jupyter-js-widgets",
      "model_module_version": "~2.1.4",
      "model_name": "FloatSliderModel",
      "state": {
       "_model_module_version": "~2.1.4",
       "_view_module_version": "~2.1.4",
       "description": "x1",
       "layout": "IPY_MODEL_2b42ac5c9d3e46fd9e50b2da0c4206e6",
       "max": 3,
       "min": -3,
       "step": 0.1
      }
     },
     "c7c19e9b0cd440a887f974f282dfc118": {
      "model_module": "jupyter-js-widgets",
      "model_module_version": "~2.1.4",
      "model_name": "IntSliderModel",
      "state": {
       "_model_module_version": "~2.1.4",
       "_view_module_version": "~2.1.4",
       "description": "num",
       "layout": "IPY_MODEL_ab212c5eb15646c394de2fd037be6efa",
       "max": 9,
       "style": "IPY_MODEL_228d55d9b5d9407d92653c7192bd53de",
       "value": 4
      }
     },
     "ce17e9c4e58549d3b72b513ed7c25605": {
      "model_module": "jupyter-js-widgets",
      "model_module_version": "~2.1.4",
      "model_name": "LayoutModel",
      "state": {
       "_model_module_version": "~2.1.4",
       "_view_module_version": "~2.1.4"
      }
     },
     "cf35ef0949e94a28af9f5aa60eda8281": {
      "model_module": "jupyter-js-widgets",
      "model_module_version": "~2.1.4",
      "model_name": "SliderStyleModel",
      "state": {
       "_model_module_version": "~2.1.4",
       "_view_module_version": "~2.1.4"
      }
     },
     "dc051619f9ba40cf9ef046f2db2f0136": {
      "model_module": "jupyter-js-widgets",
      "model_module_version": "~2.1.4",
      "model_name": "FloatSliderModel",
      "state": {
       "_model_module_version": "~2.1.4",
       "_view_module_version": "~2.1.4",
       "description": "x3",
       "layout": "IPY_MODEL_93bbe7de40a74bd483322c856d31a615",
       "max": 3,
       "min": -3,
       "step": 0.1
      }
     },
     "e3545a4e4d3d4c819e50954e384f1743": {
      "model_module": "jupyter-js-widgets",
      "model_module_version": "~2.1.4",
      "model_name": "LayoutModel",
      "state": {
       "_model_module_version": "~2.1.4",
       "_view_module_version": "~2.1.4"
      }
     },
     "e392d6d50f5a4bfa900d7c6cac609446": {
      "model_module": "jupyter-js-widgets",
      "model_module_version": "~2.1.4",
      "model_name": "FloatSliderModel",
      "state": {
       "_model_module_version": "~2.1.4",
       "_view_module_version": "~2.1.4",
       "description": "x4",
       "layout": "IPY_MODEL_99113e5302eb4b87a819c6e43a017879",
       "max": 3,
       "min": -3,
       "step": 0.1
      }
     },
     "eab829ae60794bb2b9de401695ea1cb7": {
      "model_module": "jupyter-js-widgets",
      "model_module_version": "~2.1.4",
      "model_name": "FloatSliderModel",
      "state": {
       "_model_module_version": "~2.1.4",
       "_view_module_version": "~2.1.4",
       "description": "x4",
       "layout": "IPY_MODEL_3d71aaa956544a3ab753ddf1c7a252f2",
       "max": 3,
       "min": -3,
       "step": 0.1
      }
     },
     "ed051251471a46f48d4cceca7b175212": {
      "model_module": "jupyter-js-widgets",
      "model_module_version": "~2.1.4",
      "model_name": "LayoutModel",
      "state": {
       "_model_module_version": "~2.1.4",
       "_view_module_version": "~2.1.4"
      }
     }
    },
    "version_major": 1,
    "version_minor": 0
   }
  }
 },
 "nbformat": 4,
 "nbformat_minor": 1
}
