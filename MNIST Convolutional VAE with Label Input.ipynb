{
 "cells": [
  {
   "cell_type": "code",
   "execution_count": 1,
   "metadata": {
    "colab": {
     "autoexec": {
      "startup": false,
      "wait_interval": 0
     }
    },
    "colab_type": "code",
    "id": "Pcme_WDvPQIj"
   },
   "outputs": [],
   "source": [
    "%matplotlib inline\n",
    "import numpy as np\n",
    "import scipy as sp\n",
    "import matplotlib.pyplot as plt\n",
    "import seaborn as sns\n",
    "import pandas as pd\n",
    "sns.set()"
   ]
  },
  {
   "cell_type": "code",
   "execution_count": 2,
   "metadata": {
    "colab": {
     "autoexec": {
      "startup": false,
      "wait_interval": 0
     },
     "base_uri": "https://localhost:8080/",
     "height": 34
    },
    "colab_type": "code",
    "executionInfo": {
     "elapsed": 1371,
     "status": "ok",
     "timestamp": 1533600955562,
     "user": {
      "displayName": "Eric Zhang",
      "photoUrl": "https://lh3.googleusercontent.com/a/default-user=s128",
      "userId": "112904065289332618475"
     },
     "user_tz": 300
    },
    "id": "AI2eaSA_PQIp",
    "outputId": "09f46eb5-0d77-41e9-951e-5fce2c83c057"
   },
   "outputs": [
    {
     "name": "stderr",
     "output_type": "stream",
     "text": [
      "Using TensorFlow backend.\n"
     ]
    }
   ],
   "source": [
    "from keras.datasets import mnist\n",
    "from keras.models import Sequential, Model\n",
    "from keras.layers import Conv2D, Activation, Dense, Lambda, Input, MaxPooling2D, Dropout, Flatten, Reshape, UpSampling2D, Concatenate\n",
    "from keras.losses import mse, binary_crossentropy\n",
    "from keras import backend as K\n",
    "from keras.utils import plot_model, to_categorical"
   ]
  },
  {
   "cell_type": "code",
   "execution_count": 3,
   "metadata": {
    "colab": {
     "autoexec": {
      "startup": false,
      "wait_interval": 0
     },
     "base_uri": "https://localhost:8080/",
     "height": 51
    },
    "colab_type": "code",
    "executionInfo": {
     "elapsed": 827,
     "status": "ok",
     "timestamp": 1533600956404,
     "user": {
      "displayName": "Eric Zhang",
      "photoUrl": "https://lh3.googleusercontent.com/a/default-user=s128",
      "userId": "112904065289332618475"
     },
     "user_tz": 300
    },
    "id": "d83FuuGfPQI2",
    "outputId": "27d6706f-2469-4868-eaa5-8cf011e452f9"
   },
   "outputs": [
    {
     "name": "stdout",
     "output_type": "stream",
     "text": [
      "(60000, 784) (60000, 10)\n",
      "(10000, 784) (10000, 10)\n"
     ]
    }
   ],
   "source": [
    "(x_train, y_train), (x_test, y_test) = mnist.load_data()\n",
    "x_train = x_train.reshape((-1, 784)).astype('float32') / 255.0\n",
    "x_test = x_test.reshape((-1, 784)).astype('float32') / 255.0\n",
    "y_train = to_categorical(y_train, 10)\n",
    "y_test = to_categorical(y_test, 10)\n",
    "print(x_train.shape, y_train.shape)\n",
    "print(x_test.shape, y_test.shape)"
   ]
  },
  {
   "cell_type": "code",
   "execution_count": 4,
   "metadata": {
    "colab": {
     "autoexec": {
      "startup": false,
      "wait_interval": 0
     }
    },
    "colab_type": "code",
    "id": "4qh4zwCVPQJL"
   },
   "outputs": [],
   "source": [
    "# reparameterization trick\n",
    "# instead of sampling from Q(z|X), sample eps = N(0,I)\n",
    "# z = z_mean + sqrt(var)*eps\n",
    "def sampling(args):\n",
    "    \"\"\"Reparameterization trick by sampling fr an isotropic unit Gaussian.\n",
    "    # Arguments:\n",
    "        args (tensor): mean and log of variance of Q(z|X)\n",
    "    # Returns:\n",
    "        z (tensor): sampled latent vector\n",
    "    \"\"\"\n",
    "    z_mean, z_log_var = args\n",
    "    batch = K.shape(z_mean)[0]\n",
    "    dim = K.int_shape(z_mean)[1]\n",
    "    # by default, random_normal has mean=0 and std=1.0\n",
    "    epsilon = K.random_normal(shape=(batch, dim))\n",
    "    return z_mean + K.exp(0.5 * z_log_var) * epsilon"
   ]
  },
  {
   "cell_type": "code",
   "execution_count": 5,
   "metadata": {
    "colab": {
     "autoexec": {
      "startup": false,
      "wait_interval": 0
     },
     "base_uri": "https://localhost:8080/",
     "height": 1309
    },
    "colab_type": "code",
    "executionInfo": {
     "elapsed": 1258,
     "status": "ok",
     "timestamp": 1533600962363,
     "user": {
      "displayName": "Eric Zhang",
      "photoUrl": "https://lh3.googleusercontent.com/a/default-user=s128",
      "userId": "112904065289332618475"
     },
     "user_tz": 300
    },
    "id": "koDs7qHaPQJP",
    "outputId": "1f9aef81-306b-43a6-80b4-aff1f6e2996c"
   },
   "outputs": [
    {
     "name": "stdout",
     "output_type": "stream",
     "text": [
      "__________________________________________________________________________________________________\n",
      "Layer (type)                    Output Shape         Param #     Connected to                     \n",
      "==================================================================================================\n",
      "input_1 (InputLayer)            (None, 784)          0                                            \n",
      "__________________________________________________________________________________________________\n",
      "reshape_1 (Reshape)             (None, 28, 28, 1)    0           input_1[0][0]                    \n",
      "__________________________________________________________________________________________________\n",
      "conv2d_1 (Conv2D)               (None, 28, 28, 32)   320         reshape_1[0][0]                  \n",
      "__________________________________________________________________________________________________\n",
      "conv2d_2 (Conv2D)               (None, 28, 28, 32)   9248        conv2d_1[0][0]                   \n",
      "__________________________________________________________________________________________________\n",
      "max_pooling2d_1 (MaxPooling2D)  (None, 14, 14, 32)   0           conv2d_2[0][0]                   \n",
      "__________________________________________________________________________________________________\n",
      "dropout_1 (Dropout)             (None, 14, 14, 32)   0           max_pooling2d_1[0][0]            \n",
      "__________________________________________________________________________________________________\n",
      "flatten_1 (Flatten)             (None, 6272)         0           dropout_1[0][0]                  \n",
      "__________________________________________________________________________________________________\n",
      "dense_1 (Dense)                 (None, 128)          802944      flatten_1[0][0]                  \n",
      "__________________________________________________________________________________________________\n",
      "z_mean (Dense)                  (None, 4)            516         dense_1[0][0]                    \n",
      "__________________________________________________________________________________________________\n",
      "z_log_var (Dense)               (None, 4)            516         dense_1[0][0]                    \n",
      "__________________________________________________________________________________________________\n",
      "z (Lambda)                      (None, 4)            0           z_mean[0][0]                     \n",
      "                                                                 z_log_var[0][0]                  \n",
      "==================================================================================================\n",
      "Total params: 813,544\n",
      "Trainable params: 813,544\n",
      "Non-trainable params: 0\n",
      "__________________________________________________________________________________________________\n",
      "__________________________________________________________________________________________________\n",
      "Layer (type)                    Output Shape         Param #     Connected to                     \n",
      "==================================================================================================\n",
      "z_sampling (InputLayer)         (None, 4)            0                                            \n",
      "__________________________________________________________________________________________________\n",
      "label (InputLayer)              (None, 10)           0                                            \n",
      "__________________________________________________________________________________________________\n",
      "concatenate_1 (Concatenate)     (None, 14)           0           z_sampling[0][0]                 \n",
      "                                                                 label[0][0]                      \n",
      "__________________________________________________________________________________________________\n",
      "dense_2 (Dense)                 (None, 128)          1920        concatenate_1[0][0]              \n",
      "__________________________________________________________________________________________________\n",
      "dense_3 (Dense)                 (None, 6272)         809088      dense_2[0][0]                    \n",
      "__________________________________________________________________________________________________\n",
      "reshape_2 (Reshape)             (None, 14, 14, 32)   0           dense_3[0][0]                    \n",
      "__________________________________________________________________________________________________\n",
      "dropout_2 (Dropout)             (None, 14, 14, 32)   0           reshape_2[0][0]                  \n",
      "__________________________________________________________________________________________________\n",
      "up_sampling2d_1 (UpSampling2D)  (None, 28, 28, 32)   0           dropout_2[0][0]                  \n",
      "__________________________________________________________________________________________________\n",
      "conv2d_3 (Conv2D)               (None, 28, 28, 32)   9248        up_sampling2d_1[0][0]            \n",
      "__________________________________________________________________________________________________\n",
      "conv2d_4 (Conv2D)               (None, 28, 28, 1)    289         conv2d_3[0][0]                   \n",
      "__________________________________________________________________________________________________\n",
      "reshape_3 (Reshape)             (None, 784)          0           conv2d_4[0][0]                   \n",
      "==================================================================================================\n",
      "Total params: 820,545\n",
      "Trainable params: 820,545\n",
      "Non-trainable params: 0\n",
      "__________________________________________________________________________________________________\n",
      "__________________________________________________________________________________________________\n",
      "Layer (type)                    Output Shape         Param #     Connected to                     \n",
      "==================================================================================================\n",
      "input_1 (InputLayer)            (None, 784)          0                                            \n",
      "__________________________________________________________________________________________________\n",
      "encoder (Model)                 [(None, 4), (None, 4 813544      input_1[0][0]                    \n",
      "__________________________________________________________________________________________________\n",
      "label (InputLayer)              (None, 10)           0                                            \n",
      "__________________________________________________________________________________________________\n",
      "decoder (Model)                 (None, 784)          820545      encoder[1][2]                    \n",
      "                                                                 label[0][0]                      \n",
      "==================================================================================================\n",
      "Total params: 1,634,089\n",
      "Trainable params: 1,634,089\n",
      "Non-trainable params: 0\n",
      "__________________________________________________________________________________________________\n"
     ]
    }
   ],
   "source": [
    "image_shape = (28, 28, 1)\n",
    "original_dim = image_shape[0] * image_shape[1]\n",
    "input_shape = (original_dim,)\n",
    "batch_size = 128\n",
    "latent_dim = 4\n",
    "epochs = 20\n",
    "\n",
    "# encoder\n",
    "inputs = Input(shape=input_shape)\n",
    "x = Reshape(image_shape)(inputs)\n",
    "x = Conv2D(32, (3, 3), activation='relu', padding='same')(x)\n",
    "x = Conv2D(32, (3, 3), activation='relu', padding='same')(x)\n",
    "x = MaxPooling2D((2, 2))(x)\n",
    "x = Dropout(0.25)(x)\n",
    "x = Flatten()(x)\n",
    "x = Dense(128, activation='relu')(x)\n",
    "z_mean = Dense(latent_dim, name='z_mean')(x)\n",
    "z_log_var = Dense(latent_dim, name='z_log_var')(x)\n",
    "z = Lambda(sampling, output_shape=(latent_dim,), name='z')([z_mean, z_log_var])\n",
    "\n",
    "encoder = Model(inputs, [z_mean, z_log_var, z], name='encoder')\n",
    "encoder.summary()\n",
    "plot_model(encoder, to_file='vae_cnn_encoder.png', show_shapes=True)\n",
    "\n",
    "# decoder\n",
    "latent_inputs = Input(shape=(latent_dim,), name='z_sampling')\n",
    "label_inputs = Input(shape=(10,), name='label')\n",
    "x = Concatenate()([latent_inputs, label_inputs])\n",
    "x = Dense(128, activation='relu')(x)\n",
    "x = Dense(14 * 14 * 32, activation='relu')(x)\n",
    "x = Reshape((14, 14, 32))(x)\n",
    "x = Dropout(0.25)(x)\n",
    "x = UpSampling2D((2, 2))(x)\n",
    "x = Conv2D(32, (3, 3), activation='relu', padding='same')(x)\n",
    "x = Conv2D(1, (3, 3), activation='sigmoid', padding='same')(x)\n",
    "outputs = Reshape(input_shape)(x)\n",
    "\n",
    "decoder = Model([latent_inputs, label_inputs], outputs, name='decoder')\n",
    "decoder.summary()\n",
    "plot_model(decoder, to_file='vae_cnn_decoder.png', show_shapes=True)\n",
    "\n",
    "# variational autoencoder\n",
    "outputs = decoder([encoder(inputs)[2], label_inputs])\n",
    "vae = Model([inputs, label_inputs], outputs, name='vae_mlp')\n",
    "vae.summary()\n",
    "plot_model(vae, to_file='vae_cnn.png', show_shapes=True)"
   ]
  },
  {
   "cell_type": "code",
   "execution_count": 6,
   "metadata": {
    "colab": {
     "autoexec": {
      "startup": false,
      "wait_interval": 0
     },
     "base_uri": "https://localhost:8080/",
     "height": 71
    },
    "colab_type": "code",
    "executionInfo": {
     "elapsed": 166,
     "status": "ok",
     "timestamp": 1533600965385,
     "user": {
      "displayName": "Eric Zhang",
      "photoUrl": "https://lh3.googleusercontent.com/a/default-user=s128",
      "userId": "112904065289332618475"
     },
     "user_tz": 300
    },
    "id": "S2AK-c_3PQJW",
    "outputId": "62e00d98-7c9b-4c48-938d-1e7def7650d2"
   },
   "outputs": [],
   "source": [
    "reconstruction_loss = mse(inputs, outputs)\n",
    "reconstruction_loss *= original_dim\n",
    "kl_loss = 1 + z_log_var - K.square(z_mean) - K.exp(z_log_var)\n",
    "kl_loss = K.sum(kl_loss, axis=-1)\n",
    "kl_loss *= -0.5\n",
    "vae_loss = K.mean(reconstruction_loss + kl_loss)\n",
    "vae.add_loss(vae_loss)\n",
    "vae.compile(optimizer='adam')"
   ]
  },
  {
   "cell_type": "code",
   "execution_count": 7,
   "metadata": {
    "colab": {
     "autoexec": {
      "startup": false,
      "wait_interval": 0
     },
     "base_uri": "https://localhost:8080/",
     "height": 34
    },
    "colab_type": "code",
    "executionInfo": {
     "elapsed": 215,
     "status": "ok",
     "timestamp": 1533602507875,
     "user": {
      "displayName": "Eric Zhang",
      "photoUrl": "https://lh3.googleusercontent.com/a/default-user=s128",
      "userId": "112904065289332618475"
     },
     "user_tz": 300
    },
    "id": "zPHhCBsSPQJb",
    "outputId": "21c1c3b7-3394-4bc1-fe36-a6575a4293c7"
   },
   "outputs": [
    {
     "name": "stdout",
     "output_type": "stream",
     "text": [
      "Loaded weights!\n"
     ]
    }
   ],
   "source": [
    "import os\n",
    "\n",
    "weights_file = 'vae_cnn_mnist.h5'\n",
    "\n",
    "if os.path.exists(weights_file):\n",
    "    vae.load_weights(weights_file)\n",
    "    print('Loaded weights!')\n",
    "else:\n",
    "    vae.fit([x_train, y_train],\n",
    "            epochs=epochs,\n",
    "            batch_size=batch_size,\n",
    "            validation_data=([x_test, y_test], None))\n",
    "    vae.save_weights('vae_cnn_mnist.h5')"
   ]
  },
  {
   "cell_type": "code",
   "execution_count": 8,
   "metadata": {
    "colab": {
     "autoexec": {
      "startup": false,
      "wait_interval": 0
     },
     "base_uri": "https://localhost:8080/",
     "height": 191
    },
    "colab_type": "code",
    "executionInfo": {
     "elapsed": 4507,
     "status": "ok",
     "timestamp": 1533602516983,
     "user": {
      "displayName": "Eric Zhang",
      "photoUrl": "https://lh3.googleusercontent.com/a/default-user=s128",
      "userId": "112904065289332618475"
     },
     "user_tz": 300
    },
    "id": "lyGgL1U5U3lw",
    "outputId": "5c2c815b-ad7b-4e62-963c-c7ddb89cbda7"
   },
   "outputs": [
    {
     "data": {
      "image/png": "[encoded data removed]",
      "text/plain": [
       "<matplotlib.figure.Figure at 0x1289c2da0>"
      ]
     },
     "metadata": {},
     "output_type": "display_data"
    }
   ],
   "source": [
    "fig, axes = plt.subplots(2, 10, figsize=(15, 3))\n",
    "\n",
    "def show(im):\n",
    "    sns.heatmap(im.reshape((28, 28)), cmap='Greys', cbar=False, square=True, )\n",
    "\n",
    "sample = np.random.randint(len(x_test), size=10)\n",
    "reconst = vae.predict([x_test[sample], y_test[sample]])\n",
    "\n",
    "for i in range(10):\n",
    "    axes[0, i].get_xaxis().set_visible(False)\n",
    "    axes[0, i].get_yaxis().set_visible(False)\n",
    "    plt.sca(axes[0, i])\n",
    "    show(x_test[sample[i]])\n",
    "    axes[1, i].get_xaxis().set_visible(False)\n",
    "    axes[1, i].get_yaxis().set_visible(False)\n",
    "    plt.sca(axes[1, i])\n",
    "    show(reconst[i])\n",
    "\n",
    "plt.show()"
   ]
  },
  {
   "cell_type": "code",
   "execution_count": 9,
   "metadata": {},
   "outputs": [
    {
     "name": "stderr",
     "output_type": "stream",
     "text": [
      "Widget Javascript not detected.  It may not be installed or enabled properly.\n"
     ]
    },
    {
     "data": {
      "application/vnd.jupyter.widget-view+json": {
       "model_id": "6fdca1a2b6ea473f8869aca9cde11d1b"
      }
     },
     "metadata": {},
     "output_type": "display_data"
    }
   ],
   "source": [
    "from ipywidgets import interact, interact_manual\n",
    "\n",
    "def from_latent(num, vec):\n",
    "    vec = np.array(vec)\n",
    "    im = decoder.predict([vec.reshape(1, latent_dim), to_categorical([num], 10)]).reshape(28, 28)\n",
    "    return im\n",
    "\n",
    "@interact(num=(0,9),\n",
    "          x1=(-3., 3.), x2=(-3., 3.), x3=(-3., 3.), x4=(-3., 3.))\n",
    "def f(num, x1, x2, x3, x4):\n",
    "    plt.figure(2)\n",
    "    plt.axis('off')\n",
    "    im = from_latent(num, [x1, x2, x3, x4])\n",
    "    sns.heatmap(im, square=True, cmap='Greys', cbar=False)\n",
    "    plt.show()"
   ]
  }
 ],
 "metadata": {
  "accelerator": "GPU",
  "colab": {
   "default_view": {},
   "name": "MNIST Convolutional VAE with Label Input.ipynb",
   "provenance": [],
   "version": "0.3.2",
   "views": {}
  },
  "kernelspec": {
   "display_name": "Python 3",
   "language": "python",
   "name": "python3"
  },
  "language_info": {
   "codemirror_mode": {
    "name": "ipython",
    "version": 3
   },
   "file_extension": ".py",
   "mimetype": "text/x-python",
   "name": "python",
   "nbconvert_exporter": "python",
   "pygments_lexer": "ipython3",
   "version": "3.6.5"
  },
  "widgets": {
   "application/vnd.jupyter.widget-state+json": {
    "state": {
     "0085773094ca42dcb643d026f3653723": {
      "model_module": "jupyter-js-widgets",
      "model_module_version": "~2.1.4",
      "model_name": "LayoutModel",
      "state": {
       "_model_module_version": "~2.1.4",
       "_view_module_version": "~2.1.4"
      }
     },
     "0335ba3f01164d908f3dab676197ad22": {
      "model_module": "jupyter-js-widgets",
      "model_module_version": "~2.1.4",
      "model_name": "FloatSliderModel",
      "state": {
       "_model_module_version": "~2.1.4",
       "_view_module_version": "~2.1.4",
       "description": "x3",
       "layout": "IPY_MODEL_b2e5aa18443843b2a9ba87eaec8a9f3f",
       "max": 3,
       "min": -3,
       "step": 0.1,
       "value": -0.1
      }
     },
     "04259bb98c6542afbfb409ee8f218a9e": {
      "model_module": "jupyter-js-widgets",
      "model_module_version": "~2.1.4",
      "model_name": "VBoxModel",
      "state": {
       "_dom_classes": [
        "widget-interact"
       ],
       "_model_module_version": "~2.1.4",
       "_view_module_version": "~2.1.4",
       "children": [
        "IPY_MODEL_d37ab447583a4c2aa7748be5edaa57a6",
        "IPY_MODEL_2795038a46034c6fa3bbbf290eb46686",
        "IPY_MODEL_b946e13adc7948a0a5980c61b81e6f13",
        "IPY_MODEL_4066569ba3ab483189665b3ff7a656ce",
        "IPY_MODEL_503a4ac8e97e49c2ae0ac54355ce43b6",
        "IPY_MODEL_edc55a778e7b45d6889018fce35c5ba6",
        "IPY_MODEL_2f4d519be4bc403982aeaa8730682b21",
        "IPY_MODEL_c45ce51c0f85422aac51f218b8f43805",
        "IPY_MODEL_2d64e814c54742a5bebc4ebd0c97cf7b",
        "IPY_MODEL_b1645269f0d442ad85ded32be58f1ced"
       ],
       "layout": "IPY_MODEL_fc50aa99ebe042c8935ca7e90fe70f16"
      }
     },
     "0540eeb796494f029a454be56f87f028": {
      "model_module": "jupyter-js-widgets",
      "model_module_version": "~2.1.4",
      "model_name": "FloatSliderModel",
      "state": {
       "_model_module_version": "~2.1.4",
       "_view_module_version": "~2.1.4",
       "description": "x1",
       "layout": "IPY_MODEL_4fd527ef8fb54763850ea4a0461449a0",
       "max": 1,
       "step": 0.1
      }
     },
     "085fdfd4aa5946d6948c642c3318bdc7": {
      "model_module": "jupyter-js-widgets",
      "model_module_version": "~2.1.4",
      "model_name": "FloatSliderModel",
      "state": {
       "_model_module_version": "~2.1.4",
       "_view_module_version": "~2.1.4",
       "description": "x6",
       "layout": "IPY_MODEL_7373e82cc7044d6c99f48c3194a69ea8",
       "max": 1,
       "min": -1,
       "step": 0.1
      }
     },
     "08f2de5c8638497eba978fda9675c8ce": {
      "model_module": "jupyter-js-widgets",
      "model_module_version": "~2.1.4",
      "model_name": "LayoutModel",
      "state": {
       "_model_module_version": "~2.1.4",
       "_view_module_version": "~2.1.4"
      }
     },
     "0a5f4e9288d5461e95023fc974525b61": {
      "model_module": "jupyter-js-widgets",
      "model_module_version": "~2.1.4",
      "model_name": "SliderStyleModel",
      "state": {
       "_model_module_version": "~2.1.4",
       "_view_module_version": "~2.1.4"
      }
     },
     "0e97134efc7d42f0a1000219f97a2601": {
      "model_module": "jupyter-js-widgets",
      "model_module_version": "~2.1.4",
      "model_name": "LayoutModel",
      "state": {
       "_model_module_version": "~2.1.4",
       "_view_module_version": "~2.1.4"
      }
     },
     "10ffdf94cb8b4619bda319ac8929d419": {
      "model_module": "jupyter-js-widgets",
      "model_module_version": "~2.1.4",
      "model_name": "FloatSliderModel",
      "state": {
       "_model_module_version": "~2.1.4",
       "_view_module_version": "~2.1.4",
       "description": "x4",
       "layout": "IPY_MODEL_da58df6e9fce490b80d3f1ebc1ff6259",
       "max": 3,
       "min": -3,
       "step": 0.1
      }
     },
     "11e0d009848b4f028286c618ed9b7e91": {
      "model_module": "jupyter-js-widgets",
      "model_module_version": "~2.1.4",
      "model_name": "LayoutModel",
      "state": {
       "_model_module_version": "~2.1.4",
       "_view_module_version": "~2.1.4"
      }
     },
     "1263cc36cbde4df191fc980d0d417089": {
      "model_module": "jupyter-js-widgets",
      "model_module_version": "~2.1.4",
      "model_name": "IntSliderModel",
      "state": {
       "_model_module_version": "~2.1.4",
       "_view_module_version": "~2.1.4",
       "description": "num",
       "layout": "IPY_MODEL_4679bb971e614efaaa529deb4b080679",
       "max": 9,
       "style": "IPY_MODEL_7e704be014b249df80b444439951b749",
       "value": 4
      }
     },
     "132c73cbe7ca4c2cb1d925e71ba25dd4": {
      "model_module": "jupyter-js-widgets",
      "model_module_version": "~2.1.4",
      "model_name": "SliderStyleModel",
      "state": {
       "_model_module_version": "~2.1.4",
       "_view_module_version": "~2.1.4"
      }
     },
     "1399b491dbba42b3bb767857292e6c76": {
      "model_module": "jupyter-js-widgets",
      "model_module_version": "~2.1.4",
      "model_name": "LayoutModel",
      "state": {
       "_model_module_version": "~2.1.4",
       "_view_module_version": "~2.1.4"
      }
     },
     "153622be5b23464f9cef46a53d3aaafd": {
      "model_module": "jupyter-js-widgets",
      "model_module_version": "~2.1.4",
      "model_name": "FloatSliderModel",
      "state": {
       "_model_module_version": "~2.1.4",
       "_view_module_version": "~2.1.4",
       "description": "x1",
       "layout": "IPY_MODEL_0085773094ca42dcb643d026f3653723",
       "max": 3,
       "min": -3,
       "step": 0.1
      }
     },
     "15f263ed888a4094a6b28fd180346d3c": {
      "model_module": "jupyter-js-widgets",
      "model_module_version": "~2.1.4",
      "model_name": "LayoutModel",
      "state": {
       "_model_module_version": "~2.1.4",
       "_view_module_version": "~2.1.4"
      }
     },
     "1c4ae38a934b41e797846d1eac00b0f1": {
      "model_module": "jupyter-js-widgets",
      "model_module_version": "~2.1.4",
      "model_name": "LayoutModel",
      "state": {
       "_model_module_version": "~2.1.4",
       "_view_module_version": "~2.1.4"
      }
     },
     "1d1e175602a74d2f8e1ac9640927c78a": {
      "model_module": "jupyter-js-widgets",
      "model_module_version": "~2.1.4",
      "model_name": "FloatSliderModel",
      "state": {
       "_model_module_version": "~2.1.4",
       "_view_module_version": "~2.1.4",
       "description": "x7",
       "layout": "IPY_MODEL_3fe135ca50884a87ba6daf28d97646fe",
       "max": 1,
       "step": 0.1
      }
     },
     "1e6d7e52ae9f474a88b68fd556291985": {
      "model_module": "jupyter-js-widgets",
      "model_module_version": "~2.1.4",
      "model_name": "FloatSliderModel",
      "state": {
       "_model_module_version": "~2.1.4",
       "_view_module_version": "~2.1.4",
       "description": "x1",
       "layout": "IPY_MODEL_ceb2073677554130bf28bb331dd9e2a3",
       "max": 3,
       "min": -3,
       "step": 0.1
      }
     },
     "1f827583a7a54ea18bade77dbd8990d7": {
      "model_module": "jupyter-js-widgets",
      "model_module_version": "~2.1.4",
      "model_name": "LayoutModel",
      "state": {
       "_model_module_version": "~2.1.4",
       "_view_module_version": "~2.1.4"
      }
     },
     "2056e113992c42fa8e6b244c02421924": {
      "model_module": "jupyter-js-widgets",
      "model_module_version": "~2.1.4",
      "model_name": "FloatSliderModel",
      "state": {
       "_model_module_version": "~2.1.4",
       "_view_module_version": "~2.1.4",
       "description": "x3",
       "layout": "IPY_MODEL_965fa3fd74da4b1295b7ad23713e0ee3",
       "max": 1,
       "min": -1,
       "step": 0.1,
       "value": 0.1
      }
     },
     "2083ab96399a4053a46aa49ae68b756e": {
      "model_module": "jupyter-js-widgets",
      "model_module_version": "~2.1.4",
      "model_name": "FloatSliderModel",
      "state": {
       "_model_module_version": "~2.1.4",
       "_view_module_version": "~2.1.4",
       "description": "x4",
       "layout": "IPY_MODEL_d5334fae437d47bea308bcedfb00d84f",
       "max": 1,
       "min": -1,
       "step": 0.1
      }
     },
     "20d28bf9dbb549f7918a2bc463324365": {
      "model_module": "jupyter-js-widgets",
      "model_module_version": "~2.1.4",
      "model_name": "FloatSliderModel",
      "state": {
       "_model_module_version": "~2.1.4",
       "_view_module_version": "~2.1.4",
       "description": "x7",
       "layout": "IPY_MODEL_b6fb9ee53fe248c992d42d603503e241",
       "max": 1,
       "min": -1,
       "step": 0.1,
       "value": -0.4
      }
     },
     "216aea23b79042e28d78beebd4929623": {
      "model_module": "jupyter-js-widgets",
      "model_module_version": "~2.1.4",
      "model_name": "LayoutModel",
      "state": {
       "_model_module_version": "~2.1.4",
       "_view_module_version": "~2.1.4"
      }
     },
     "25bbe77fb1d843c88b0e423c36a153e9": {
      "model_module": "jupyter-js-widgets",
      "model_module_version": "~2.1.4",
      "model_name": "LayoutModel",
      "state": {
       "_model_module_version": "~2.1.4",
       "_view_module_version": "~2.1.4"
      }
     },
     "2795038a46034c6fa3bbbf290eb46686": {
      "model_module": "jupyter-js-widgets",
      "model_module_version": "~2.1.4",
      "model_name": "FloatSliderModel",
      "state": {
       "_model_module_version": "~2.1.4",
       "_view_module_version": "~2.1.4",
       "description": "x1",
       "layout": "IPY_MODEL_4fcfcdb3555741f08cf71b22c68d9e39",
       "max": 1,
       "min": -1,
       "step": 0.1,
       "value": -0.1
      }
     },
     "27adfef008ca47d3a354506b158994cf": {
      "model_module": "jupyter-js-widgets",
      "model_module_version": "~2.1.4",
      "model_name": "FloatSliderModel",
      "state": {
       "_model_module_version": "~2.1.4",
       "_view_module_version": "~2.1.4",
       "description": "x6",
       "layout": "IPY_MODEL_f9c750c446754c59a52258c39f3ea0a4",
       "max": 1,
       "min": -1,
       "step": 0.1
      }
     },
     "292448d8735e4b0cb84fb43d6f5f5fe8": {
      "model_module": "jupyter-js-widgets",
      "model_module_version": "~2.1.4",
      "model_name": "LayoutModel",
      "state": {
       "_model_module_version": "~2.1.4",
       "_view_module_version": "~2.1.4"
      }
     },
     "2ad707af6016426cab9ba52b05d28de6": {
      "model_module": "jupyter-js-widgets",
      "model_module_version": "~2.1.4",
      "model_name": "FloatSliderModel",
      "state": {
       "_model_module_version": "~2.1.4",
       "_view_module_version": "~2.1.4",
       "description": "x8",
       "layout": "IPY_MODEL_b307776109c749719b8d7f9911d0af9a",
       "max": 1,
       "min": -1,
       "step": 0.1,
       "value": 0.7
      }
     },
     "2bbb38965e0e42f398a68fa3f038e460": {
      "model_module": "jupyter-js-widgets",
      "model_module_version": "~2.1.4",
      "model_name": "FloatSliderModel",
      "state": {
       "_model_module_version": "~2.1.4",
       "_view_module_version": "~2.1.4",
       "description": "x3",
       "layout": "IPY_MODEL_c0a16106aa2c4911b7d9a9933dfc9954",
       "max": 1,
       "min": -1,
       "step": 0.1
      }
     },
     "2be36970008e438493af80235d82a1a6": {
      "model_module": "jupyter-js-widgets",
      "model_module_version": "~2.1.4",
      "model_name": "FloatSliderModel",
      "state": {
       "_model_module_version": "~2.1.4",
       "_view_module_version": "~2.1.4",
       "description": "x5",
       "layout": "IPY_MODEL_2d0ee36883a2402aa1fa2f00dd70070f",
       "max": 1,
       "min": -1,
       "step": 0.1,
       "value": -0.6
      }
     },
     "2c0bedc3ba0e4e1f980f7b98b3edfe13": {
      "model_module": "jupyter-js-widgets",
      "model_module_version": "~2.1.4",
      "model_name": "LayoutModel",
      "state": {
       "_model_module_version": "~2.1.4",
       "_view_module_version": "~2.1.4"
      }
     },
     "2cab09736381408180db5fe93a20f34a": {
      "model_module": "jupyter-js-widgets",
      "model_module_version": "~2.1.4",
      "model_name": "LayoutModel",
      "state": {
       "_model_module_version": "~2.1.4",
       "_view_module_version": "~2.1.4"
      }
     },
     "2cf74e93fee245579ea1cdded7fba6bd": {
      "model_module": "jupyter-js-widgets",
      "model_module_version": "~2.1.4",
      "model_name": "LayoutModel",
      "state": {
       "_model_module_version": "~2.1.4",
       "_view_module_version": "~2.1.4"
      }
     },
     "2d0ee36883a2402aa1fa2f00dd70070f": {
      "model_module": "jupyter-js-widgets",
      "model_module_version": "~2.1.4",
      "model_name": "LayoutModel",
      "state": {
       "_model_module_version": "~2.1.4",
       "_view_module_version": "~2.1.4"
      }
     },
     "2d64e814c54742a5bebc4ebd0c97cf7b": {
      "model_module": "jupyter-js-widgets",
      "model_module_version": "~2.1.4",
      "model_name": "FloatSliderModel",
      "state": {
       "_model_module_version": "~2.1.4",
       "_view_module_version": "~2.1.4",
       "description": "x8",
       "layout": "IPY_MODEL_a6256d0263a9417d9ae224f216d6484c",
       "max": 1,
       "min": -1,
       "step": 0.1,
       "value": -0.8
      }
     },
     "2d867c9b1ba24eed81ca8873987c8da7": {
      "model_module": "jupyter-js-widgets",
      "model_module_version": "~2.1.4",
      "model_name": "FloatSliderModel",
      "state": {
       "_model_module_version": "~2.1.4",
       "_view_module_version": "~2.1.4",
       "description": "x4",
       "layout": "IPY_MODEL_696b96cc658241eaacd88a91d9e18dae",
       "max": 3,
       "min": -3,
       "step": 0.1,
       "value": 0.1
      }
     },
     "2dd4dcb2ffcb4380ba14b3b6b0eaa5b0": {
      "model_module": "jupyter-js-widgets",
      "model_module_version": "~2.1.4",
      "model_name": "FloatSliderModel",
      "state": {
       "_model_module_version": "~2.1.4",
       "_view_module_version": "~2.1.4",
       "description": "x4",
       "layout": "IPY_MODEL_f13fb35995e1415a92fadcf5887a9668",
       "max": 1,
       "min": -1,
       "step": 0.1
      }
     },
     "2e0559495e414f3e8b4233b719603947": {
      "model_module": "jupyter-js-widgets",
      "model_module_version": "~2.1.4",
      "model_name": "SliderStyleModel",
      "state": {
       "_model_module_version": "~2.1.4",
       "_view_module_version": "~2.1.4"
      }
     },
     "2e5900de3d31477481a409c85a90a35e": {
      "model_module": "jupyter-js-widgets",
      "model_module_version": "~2.1.4",
      "model_name": "LayoutModel",
      "state": {
       "_model_module_version": "~2.1.4",
       "_view_module_version": "~2.1.4"
      }
     },
     "2f3804d4d6f64918ad13a145b8191940": {
      "model_module": "jupyter-js-widgets",
      "model_module_version": "~2.1.4",
      "model_name": "SliderStyleModel",
      "state": {
       "_model_module_version": "~2.1.4",
       "_view_module_version": "~2.1.4"
      }
     },
     "2f4d519be4bc403982aeaa8730682b21": {
      "model_module": "jupyter-js-widgets",
      "model_module_version": "~2.1.4",
      "model_name": "FloatSliderModel",
      "state": {
       "_model_module_version": "~2.1.4",
       "_view_module_version": "~2.1.4",
       "description": "x6",
       "layout": "IPY_MODEL_dd043ddf6ea9497baa4098dacf56405e",
       "max": 1,
       "min": -1,
       "step": 0.1,
       "value": -0.5
      }
     },
     "2f56f4225f8942e6920f152a6980171b": {
      "model_module": "jupyter-js-widgets",
      "model_module_version": "~2.1.4",
      "model_name": "FloatSliderModel",
      "state": {
       "_model_module_version": "~2.1.4",
       "_view_module_version": "~2.1.4",
       "description": "x2",
       "layout": "IPY_MODEL_9307e188dfcc433fac082b5e003684e1",
       "max": 1,
       "step": 0.1
      }
     },
     "2fd12a26f47f43e38d866220efb04eba": {
      "model_module": "jupyter-js-widgets",
      "model_module_version": "~2.1.4",
      "model_name": "LayoutModel",
      "state": {
       "_model_module_version": "~2.1.4",
       "_view_module_version": "~2.1.4"
      }
     },
     "30a95e82182642379073c93878c340a1": {
      "model_module": "jupyter-js-widgets",
      "model_module_version": "~2.1.4",
      "model_name": "FloatSliderModel",
      "state": {
       "_model_module_version": "~2.1.4",
       "_view_module_version": "~2.1.4",
       "description": "x2",
       "layout": "IPY_MODEL_292448d8735e4b0cb84fb43d6f5f5fe8",
       "max": 1,
       "min": -1,
       "step": 0.1
      }
     },
     "30c608cae8724480a4f30c497073de1e": {
      "model_module": "jupyter-js-widgets",
      "model_module_version": "~2.1.4",
      "model_name": "LayoutModel",
      "state": {
       "_model_module_version": "~2.1.4",
       "_view_module_version": "~2.1.4"
      }
     },
     "3129ffa6d4b5461c93d91e613c9e1610": {
      "model_module": "jupyter-js-widgets",
      "model_module_version": "~2.1.4",
      "model_name": "FloatSliderModel",
      "state": {
       "_model_module_version": "~2.1.4",
       "_view_module_version": "~2.1.4",
       "description": "x2",
       "layout": "IPY_MODEL_ac4f052b651f4dedb9575a559e9d84b1",
       "max": 3,
       "min": -3,
       "step": 0.1,
       "value": -1.2
      }
     },
     "34a92d363fef4070ad52d1c5ab44e82b": {
      "model_module": "jupyter-js-widgets",
      "model_module_version": "~2.1.4",
      "model_name": "LayoutModel",
      "state": {
       "_model_module_version": "~2.1.4",
       "_view_module_version": "~2.1.4"
      }
     },
     "3846da5818b140bdb3712db0205a7660": {
      "model_module": "jupyter-js-widgets",
      "model_module_version": "~2.1.4",
      "model_name": "LayoutModel",
      "state": {
       "_model_module_version": "~2.1.4",
       "_view_module_version": "~2.1.4"
      }
     },
     "3a23c8ef72ba4455a5a84ea60646d0cd": {
      "model_module": "jupyter-js-widgets",
      "model_module_version": "~2.1.4",
      "model_name": "LayoutModel",
      "state": {
       "_model_module_version": "~2.1.4",
       "_view_module_version": "~2.1.4"
      }
     },
     "3aa4f7ef35dd4e2289a91ad5bd08f466": {
      "model_module": "jupyter-js-widgets",
      "model_module_version": "~2.1.4",
      "model_name": "LayoutModel",
      "state": {
       "_model_module_version": "~2.1.4",
       "_view_module_version": "~2.1.4"
      }
     },
     "3d6503f70be749868b1ca2b0a809d96d": {
      "model_module": "jupyter-js-widgets",
      "model_module_version": "~2.1.4",
      "model_name": "SliderStyleModel",
      "state": {
       "_model_module_version": "~2.1.4",
       "_view_module_version": "~2.1.4"
      }
     },
     "3f5bab0742e5437b8b0e296e927187ef": {
      "model_module": "jupyter-js-widgets",
      "model_module_version": "~2.1.4",
      "model_name": "LayoutModel",
      "state": {
       "_model_module_version": "~2.1.4",
       "_view_module_version": "~2.1.4"
      }
     },
     "3fe135ca50884a87ba6daf28d97646fe": {
      "model_module": "jupyter-js-widgets",
      "model_module_version": "~2.1.4",
      "model_name": "LayoutModel",
      "state": {
       "_model_module_version": "~2.1.4",
       "_view_module_version": "~2.1.4"
      }
     },
     "4066569ba3ab483189665b3ff7a656ce": {
      "model_module": "jupyter-js-widgets",
      "model_module_version": "~2.1.4",
      "model_name": "FloatSliderModel",
      "state": {
       "_model_module_version": "~2.1.4",
       "_view_module_version": "~2.1.4",
       "description": "x3",
       "layout": "IPY_MODEL_556ca8c9c5ab4fd0801807bd58c0d4fb",
       "max": 1,
       "min": -1,
       "step": 0.1,
       "value": -0.3
      }
     },
     "43b40da270d2437d94c6cfd4488b8242": {
      "model_module": "jupyter-js-widgets",
      "model_module_version": "~2.1.4",
      "model_name": "LayoutModel",
      "state": {
       "_model_module_version": "~2.1.4",
       "_view_module_version": "~2.1.4"
      }
     },
     "4679bb971e614efaaa529deb4b080679": {
      "model_module": "jupyter-js-widgets",
      "model_module_version": "~2.1.4",
      "model_name": "LayoutModel",
      "state": {
       "_model_module_version": "~2.1.4",
       "_view_module_version": "~2.1.4"
      }
     },
     "47d77de1c7374fa6aaf140bc1e760dad": {
      "model_module": "jupyter-js-widgets",
      "model_module_version": "~2.1.4",
      "model_name": "LayoutModel",
      "state": {
       "_model_module_version": "~2.1.4",
       "_view_module_version": "~2.1.4"
      }
     },
     "4b8def0b4da74cd3bd168402c7ab8a03": {
      "model_module": "jupyter-js-widgets",
      "model_module_version": "~2.1.4",
      "model_name": "LayoutModel",
      "state": {
       "_model_module_version": "~2.1.4",
       "_view_module_version": "~2.1.4"
      }
     },
     "4c06f5658518403c881e9c022556c6fb": {
      "model_module": "jupyter-js-widgets",
      "model_module_version": "~2.1.4",
      "model_name": "FloatSliderModel",
      "state": {
       "_model_module_version": "~2.1.4",
       "_view_module_version": "~2.1.4",
       "description": "x3",
       "layout": "IPY_MODEL_93d06a3a1f394ffaab8932b9a20d38ba",
       "max": 3,
       "min": -3,
       "step": 0.1
      }
     },
     "4cc761d420e04252ad47dc85d576e70e": {
      "model_module": "jupyter-js-widgets",
      "model_module_version": "~2.1.4",
      "model_name": "FloatSliderModel",
      "state": {
       "_model_module_version": "~2.1.4",
       "_view_module_version": "~2.1.4",
       "description": "x4",
       "layout": "IPY_MODEL_25bbe77fb1d843c88b0e423c36a153e9",
       "max": 2,
       "min": -2,
       "step": 0.1,
       "value": 0.9
      }
     },
     "4cf80018154f414385ae0d661d35b496": {
      "model_module": "jupyter-js-widgets",
      "model_module_version": "~2.1.4",
      "model_name": "LayoutModel",
      "state": {
       "_model_module_version": "~2.1.4",
       "_view_module_version": "~2.1.4"
      }
     },
     "4fcfcdb3555741f08cf71b22c68d9e39": {
      "model_module": "jupyter-js-widgets",
      "model_module_version": "~2.1.4",
      "model_name": "LayoutModel",
      "state": {
       "_model_module_version": "~2.1.4",
       "_view_module_version": "~2.1.4"
      }
     },
     "4fd527ef8fb54763850ea4a0461449a0": {
      "model_module": "jupyter-js-widgets",
      "model_module_version": "~2.1.4",
      "model_name": "LayoutModel",
      "state": {
       "_model_module_version": "~2.1.4",
       "_view_module_version": "~2.1.4"
      }
     },
     "503a4ac8e97e49c2ae0ac54355ce43b6": {
      "model_module": "jupyter-js-widgets",
      "model_module_version": "~2.1.4",
      "model_name": "FloatSliderModel",
      "state": {
       "_model_module_version": "~2.1.4",
       "_view_module_version": "~2.1.4",
       "description": "x4",
       "layout": "IPY_MODEL_9599011936c141249cfbfd8ef2ee53cf",
       "max": 1,
       "min": -1,
       "step": 0.1,
       "value": -0.5
      }
     },
     "50b24394eb254054995c218d64327b3f": {
      "model_module": "jupyter-js-widgets",
      "model_module_version": "~2.1.4",
      "model_name": "FloatSliderModel",
      "state": {
       "_model_module_version": "~2.1.4",
       "_view_module_version": "~2.1.4",
       "description": "x5",
       "layout": "IPY_MODEL_08f2de5c8638497eba978fda9675c8ce",
       "max": 1,
       "min": -1,
       "step": 0.1
      }
     },
     "50c14b99ba3447e6aa1dca4d91632475": {
      "model_module": "jupyter-js-widgets",
      "model_module_version": "~2.1.4",
      "model_name": "LayoutModel",
      "state": {
       "_model_module_version": "~2.1.4",
       "_view_module_version": "~2.1.4"
      }
     },
     "513bee4103f349688612aa1ecc160503": {
      "model_module": "jupyter-js-widgets",
      "model_module_version": "~2.1.4",
      "model_name": "FloatSliderModel",
      "state": {
       "_model_module_version": "~2.1.4",
       "_view_module_version": "~2.1.4",
       "description": "x3",
       "layout": "IPY_MODEL_a7f47c75564c48329d0a0b987dbd1baa",
       "max": 1,
       "step": 0.1
      }
     },
     "51cdc5a5ee124ea689d7d9bede32c744": {
      "model_module": "jupyter-js-widgets",
      "model_module_version": "~2.1.4",
      "model_name": "LayoutModel",
      "state": {
       "_model_module_version": "~2.1.4",
       "_view_module_version": "~2.1.4"
      }
     },
     "545eeb17db1c434dba2e03566abb4284": {
      "model_module": "jupyter-js-widgets",
      "model_module_version": "~2.1.4",
      "model_name": "FloatSliderModel",
      "state": {
       "_model_module_version": "~2.1.4",
       "_view_module_version": "~2.1.4",
       "description": "x1",
       "layout": "IPY_MODEL_f61e49b15e63445795d3dc8749fe0865",
       "max": 1,
       "min": -1,
       "step": 0.1
      }
     },
     "556ca8c9c5ab4fd0801807bd58c0d4fb": {
      "model_module": "jupyter-js-widgets",
      "model_module_version": "~2.1.4",
      "model_name": "LayoutModel",
      "state": {
       "_model_module_version": "~2.1.4",
       "_view_module_version": "~2.1.4"
      }
     },
     "56c465117e8d46b084419f18b6ec7ab3": {
      "model_module": "jupyter-js-widgets",
      "model_module_version": "~2.1.4",
      "model_name": "VBoxModel",
      "state": {
       "_dom_classes": [
        "widget-interact"
       ],
       "_model_module_version": "~2.1.4",
       "_view_module_version": "~2.1.4",
       "children": [
        "IPY_MODEL_e96ad3386b67413d996bddb928efa4c5",
        "IPY_MODEL_545eeb17db1c434dba2e03566abb4284",
        "IPY_MODEL_87cf5f35e13a4d989c450867cf143000",
        "IPY_MODEL_2bbb38965e0e42f398a68fa3f038e460",
        "IPY_MODEL_2dd4dcb2ffcb4380ba14b3b6b0eaa5b0",
        "IPY_MODEL_50b24394eb254054995c218d64327b3f",
        "IPY_MODEL_27adfef008ca47d3a354506b158994cf",
        "IPY_MODEL_aa78866623d34884b8841aab4f6cc323",
        "IPY_MODEL_8b05b0fb65f84d9bb5c078177a515b78",
        "IPY_MODEL_7fd9e9e9860e4b33a94426403f8cb83a"
       ],
       "layout": "IPY_MODEL_cd1b5c40972b44b699458e204f2cab44"
      }
     },
     "56dbf3fc44334f14b7d9676633bda8c2": {
      "model_module": "jupyter-js-widgets",
      "model_module_version": "~2.1.4",
      "model_name": "FloatSliderModel",
      "state": {
       "_model_module_version": "~2.1.4",
       "_view_module_version": "~2.1.4",
       "description": "x8",
       "layout": "IPY_MODEL_2c0bedc3ba0e4e1f980f7b98b3edfe13",
       "max": 1,
       "min": -1,
       "step": 0.1
      }
     },
     "58823b107cb94d1090f87a7d9c47ca60": {
      "model_module": "jupyter-js-widgets",
      "model_module_version": "~2.1.4",
      "model_name": "LayoutModel",
      "state": {
       "_model_module_version": "~2.1.4",
       "_view_module_version": "~2.1.4"
      }
     },
     "59c558cf97954bfe8d25ce11e50be47b": {
      "model_module": "jupyter-js-widgets",
      "model_module_version": "~2.1.4",
      "model_name": "OutputModel",
      "state": {
       "_dom_classes": [],
       "_model_module": "jupyter-js-widgets",
       "_model_module_version": "~2.1.4",
       "_view_module": "jupyter-js-widgets",
       "_view_module_version": "~2.1.4",
       "layout": "IPY_MODEL_51cdc5a5ee124ea689d7d9bede32c744",
       "msg_throttle": 1
      }
     },
     "59f3154801c24bf286660edf4f7db1be": {
      "model_module": "jupyter-js-widgets",
      "model_module_version": "~2.1.4",
      "model_name": "OutputModel",
      "state": {
       "_dom_classes": [],
       "_model_module": "jupyter-js-widgets",
       "_model_module_version": "~2.1.4",
       "_view_module": "jupyter-js-widgets",
       "_view_module_version": "~2.1.4",
       "layout": "IPY_MODEL_febf0a1a96a64f0a9f385546c8b40ea0",
       "msg_throttle": 1
      }
     },
     "5adf8fec5dc34c31a51957df2ca607f9": {
      "model_module": "jupyter-js-widgets",
      "model_module_version": "~2.1.4",
      "model_name": "LayoutModel",
      "state": {
       "_model_module_version": "~2.1.4",
       "_view_module_version": "~2.1.4"
      }
     },
     "5ce190e16a704a0280eb91556eec25fa": {
      "model_module": "jupyter-js-widgets",
      "model_module_version": "~2.1.4",
      "model_name": "LayoutModel",
      "state": {
       "_model_module_version": "~2.1.4",
       "_view_module_version": "~2.1.4"
      }
     },
     "5d762c11cd724df0a4a47109ea72c5b4": {
      "model_module": "jupyter-js-widgets",
      "model_module_version": "~2.1.4",
      "model_name": "FloatSliderModel",
      "state": {
       "_model_module_version": "~2.1.4",
       "_view_module_version": "~2.1.4",
       "description": "x7",
       "layout": "IPY_MODEL_47d77de1c7374fa6aaf140bc1e760dad",
       "max": 1,
       "min": -1,
       "step": 0.1,
       "value": 0.7
      }
     },
     "5dfa2efb34b644a58fb7d56c8e1fa97a": {
      "model_module": "jupyter-js-widgets",
      "model_module_version": "~2.1.4",
      "model_name": "LayoutModel",
      "state": {
       "_model_module_version": "~2.1.4",
       "_view_module_version": "~2.1.4"
      }
     },
     "5f48b3f56b284c8a8a73f68cad193c42": {
      "model_module": "jupyter-js-widgets",
      "model_module_version": "~2.1.4",
      "model_name": "IntSliderModel",
      "state": {
       "_model_module_version": "~2.1.4",
       "_view_module_version": "~2.1.4",
       "description": "num",
       "layout": "IPY_MODEL_15f263ed888a4094a6b28fd180346d3c",
       "max": 9,
       "style": "IPY_MODEL_e61f5ec2062d4215a37739659f1ff47b",
       "value": 4
      }
     },
     "6064a275bb0e41d5ad673c36f1684271": {
      "model_module": "jupyter-js-widgets",
      "model_module_version": "~2.1.4",
      "model_name": "FloatSliderModel",
      "state": {
       "_model_module_version": "~2.1.4",
       "_view_module_version": "~2.1.4",
       "description": "x5",
       "layout": "IPY_MODEL_cc3ab241b6614069bd008c7033539c02",
       "max": 1,
       "step": 0.1
      }
     },
     "61ead92ec5bb402989b54059ad1c71a9": {
      "model_module": "jupyter-js-widgets",
      "model_module_version": "~2.1.4",
      "model_name": "OutputModel",
      "state": {
       "_dom_classes": [],
       "_model_module": "jupyter-js-widgets",
       "_model_module_version": "~2.1.4",
       "_view_module": "jupyter-js-widgets",
       "_view_module_version": "~2.1.4",
       "layout": "IPY_MODEL_2fd12a26f47f43e38d866220efb04eba",
       "msg_throttle": 1
      }
     },
     "656d770855dd4a7cafc31176610b7913": {
      "model_module": "jupyter-js-widgets",
      "model_module_version": "~2.1.4",
      "model_name": "VBoxModel",
      "state": {
       "_dom_classes": [
        "widget-interact"
       ],
       "_model_module_version": "~2.1.4",
       "_view_module_version": "~2.1.4",
       "children": [
        "IPY_MODEL_e5e14edc9c45499eb1e805f45d8e08e9",
        "IPY_MODEL_f60d838d8d724aa8a632a090ff5dae32",
        "IPY_MODEL_aa8c8bc83eec460492325e71adadf438",
        "IPY_MODEL_2056e113992c42fa8e6b244c02421924",
        "IPY_MODEL_b9d0ee9b25ee4605afe4c4e8801fa8d5",
        "IPY_MODEL_b0db2ad55dc14b5d9c18f159071c228f",
        "IPY_MODEL_90d2386f3705462bb5fa27ae558c6e7e",
        "IPY_MODEL_20d28bf9dbb549f7918a2bc463324365",
        "IPY_MODEL_56dbf3fc44334f14b7d9676633bda8c2",
        "IPY_MODEL_61ead92ec5bb402989b54059ad1c71a9"
       ],
       "layout": "IPY_MODEL_dd4c64a6174647b6a238533f9f88cdb0"
      }
     },
     "65c289195d754f2ba3faa870a308f151": {
      "model_module": "jupyter-js-widgets",
      "model_module_version": "~2.1.4",
      "model_name": "FloatSliderModel",
      "state": {
       "_model_module_version": "~2.1.4",
       "_view_module_version": "~2.1.4",
       "description": "x1",
       "layout": "IPY_MODEL_af30edfdaecc4857b62ea346a2e393c8",
       "max": 1,
       "min": -1,
       "step": 0.1,
       "value": -0.1
      }
     },
     "679b832d69f646dd8746d30d23bd93ea": {
      "model_module": "jupyter-js-widgets",
      "model_module_version": "~2.1.4",
      "model_name": "IntSliderModel",
      "state": {
       "_model_module_version": "~2.1.4",
       "_view_module_version": "~2.1.4",
       "description": "num",
       "layout": "IPY_MODEL_43b40da270d2437d94c6cfd4488b8242",
       "max": 9,
       "style": "IPY_MODEL_2f3804d4d6f64918ad13a145b8191940",
       "value": 9
      }
     },
     "6858e0fc96634269b0bad8cfc32bf2a4": {
      "model_module": "jupyter-js-widgets",
      "model_module_version": "~2.1.4",
      "model_name": "LayoutModel",
      "state": {
       "_model_module_version": "~2.1.4",
       "_view_module_version": "~2.1.4"
      }
     },
     "696b96cc658241eaacd88a91d9e18dae": {
      "model_module": "jupyter-js-widgets",
      "model_module_version": "~2.1.4",
      "model_name": "LayoutModel",
      "state": {
       "_model_module_version": "~2.1.4",
       "_view_module_version": "~2.1.4"
      }
     },
     "69b30a21da49452ea69b21cb4b314739": {
      "model_module": "jupyter-js-widgets",
      "model_module_version": "~2.1.4",
      "model_name": "OutputModel",
      "state": {
       "_dom_classes": [],
       "_model_module": "jupyter-js-widgets",
       "_model_module_version": "~2.1.4",
       "_view_module": "jupyter-js-widgets",
       "_view_module_version": "~2.1.4",
       "layout": "IPY_MODEL_c9a5f9e91e0f429eb286372670d3f838",
       "msg_throttle": 1
      }
     },
     "6b616c6d7a9b40afad6df96a327e1bc5": {
      "model_module": "jupyter-js-widgets",
      "model_module_version": "~2.1.4",
      "model_name": "LayoutModel",
      "state": {
       "_model_module_version": "~2.1.4",
       "_view_module_version": "~2.1.4"
      }
     },
     "6d40e0ca540b41c1b5c9118a7589ce52": {
      "model_module": "jupyter-js-widgets",
      "model_module_version": "~2.1.4",
      "model_name": "LayoutModel",
      "state": {
       "_model_module_version": "~2.1.4",
       "_view_module_version": "~2.1.4"
      }
     },
     "6fdca1a2b6ea473f8869aca9cde11d1b": {
      "model_module": "jupyter-js-widgets",
      "model_module_version": "~2.1.4",
      "model_name": "VBoxModel",
      "state": {
       "_dom_classes": [
        "widget-interact"
       ],
       "_model_module_version": "~2.1.4",
       "_view_module_version": "~2.1.4",
       "children": [
        "IPY_MODEL_9fd0d9e241f549e79e84194b7b270d14",
        "IPY_MODEL_1e6d7e52ae9f474a88b68fd556291985",
        "IPY_MODEL_80daaa668a4f4800adfdec95dd870b5f",
        "IPY_MODEL_96f67974922e4aad90c017fe3c95960c",
        "IPY_MODEL_10ffdf94cb8b4619bda319ac8929d419",
        "IPY_MODEL_59c558cf97954bfe8d25ce11e50be47b"
       ],
       "layout": "IPY_MODEL_de58f62aed0849c199e69b2242daf60e"
      }
     },
     "72713796151a4b9eb9de55bd9240978b": {
      "model_module": "jupyter-js-widgets",
      "model_module_version": "~2.1.4",
      "model_name": "LayoutModel",
      "state": {
       "_model_module_version": "~2.1.4",
       "_view_module_version": "~2.1.4"
      }
     },
     "73264235d3f24440a81eebc9578c270e": {
      "model_module": "jupyter-js-widgets",
      "model_module_version": "~2.1.4",
      "model_name": "FloatSliderModel",
      "state": {
       "_model_module_version": "~2.1.4",
       "_view_module_version": "~2.1.4",
       "description": "x1",
       "layout": "IPY_MODEL_4b8def0b4da74cd3bd168402c7ab8a03",
       "max": 2,
       "min": -2,
       "step": 0.1,
       "value": -0.3
      }
     },
     "7373e82cc7044d6c99f48c3194a69ea8": {
      "model_module": "jupyter-js-widgets",
      "model_module_version": "~2.1.4",
      "model_name": "LayoutModel",
      "state": {
       "_model_module_version": "~2.1.4",
       "_view_module_version": "~2.1.4"
      }
     },
     "737894e643634169a919ed92bedf605b": {
      "model_module": "jupyter-js-widgets",
      "model_module_version": "~2.1.4",
      "model_name": "VBoxModel",
      "state": {
       "_dom_classes": [
        "widget-interact"
       ],
       "_model_module_version": "~2.1.4",
       "_view_module_version": "~2.1.4",
       "children": [
        "IPY_MODEL_9de1993f3eaf4c6194b024efa8561ba6",
        "IPY_MODEL_153622be5b23464f9cef46a53d3aaafd",
        "IPY_MODEL_c83d9517062c420db4964f2ba99fcbb3",
        "IPY_MODEL_4c06f5658518403c881e9c022556c6fb",
        "IPY_MODEL_cb0b22b78c184e53862bba7a40309732",
        "IPY_MODEL_d1d5135b4cca49f9af831060aa69fc69"
       ],
       "layout": "IPY_MODEL_9b80972187fb4332a0a5c1b1b055178b"
      }
     },
     "7739cfa153654ea18764a0e4fdce7170": {
      "model_module": "jupyter-js-widgets",
      "model_module_version": "~2.1.4",
      "model_name": "FloatSliderModel",
      "state": {
       "_model_module_version": "~2.1.4",
       "_view_module_version": "~2.1.4",
       "description": "x1",
       "layout": "IPY_MODEL_f04634b9545e433081fb132fb244ae31",
       "max": 3,
       "min": -3,
       "step": 0.1,
       "value": -0.5
      }
     },
     "7755d64324c74976b46da107f2e57f00": {
      "model_module": "jupyter-js-widgets",
      "model_module_version": "~2.1.4",
      "model_name": "LayoutModel",
      "state": {
       "_model_module_version": "~2.1.4",
       "_view_module_version": "~2.1.4"
      }
     },
     "7e704be014b249df80b444439951b749": {
      "model_module": "jupyter-js-widgets",
      "model_module_version": "~2.1.4",
      "model_name": "SliderStyleModel",
      "state": {
       "_model_module_version": "~2.1.4",
       "_view_module_version": "~2.1.4"
      }
     },
     "7eadb59966274f7ea99d880afa717396": {
      "model_module": "jupyter-js-widgets",
      "model_module_version": "~2.1.4",
      "model_name": "LayoutModel",
      "state": {
       "_model_module_version": "~2.1.4",
       "_view_module_version": "~2.1.4"
      }
     },
     "7fd9e9e9860e4b33a94426403f8cb83a": {
      "model_module": "jupyter-js-widgets",
      "model_module_version": "~2.1.4",
      "model_name": "OutputModel",
      "state": {
       "_dom_classes": [],
       "_model_module": "jupyter-js-widgets",
       "_model_module_version": "~2.1.4",
       "_view_module": "jupyter-js-widgets",
       "_view_module_version": "~2.1.4",
       "layout": "IPY_MODEL_1399b491dbba42b3bb767857292e6c76",
       "msg_throttle": 1
      }
     },
     "80daaa668a4f4800adfdec95dd870b5f": {
      "model_module": "jupyter-js-widgets",
      "model_module_version": "~2.1.4",
      "model_name": "FloatSliderModel",
      "state": {
       "_model_module_version": "~2.1.4",
       "_view_module_version": "~2.1.4",
       "description": "x2",
       "layout": "IPY_MODEL_f2e3f139a1684928951162021718e00a",
       "max": 3,
       "min": -3,
       "step": 0.1
      }
     },
     "81bdd56d78ad44098db8eb7a9cad2904": {
      "model_module": "jupyter-js-widgets",
      "model_module_version": "~2.1.4",
      "model_name": "LayoutModel",
      "state": {
       "_model_module_version": "~2.1.4",
       "_view_module_version": "~2.1.4"
      }
     },
     "874b87e24839411490fd15c0105764af": {
      "model_module": "jupyter-js-widgets",
      "model_module_version": "~2.1.4",
      "model_name": "SliderStyleModel",
      "state": {
       "_model_module_version": "~2.1.4",
       "_view_module_version": "~2.1.4"
      }
     },
     "87986e13d975451f826cffe020df1207": {
      "model_module": "jupyter-js-widgets",
      "model_module_version": "~2.1.4",
      "model_name": "FloatSliderModel",
      "state": {
       "_model_module_version": "~2.1.4",
       "_view_module_version": "~2.1.4",
       "description": "x1",
       "layout": "IPY_MODEL_dec1d18e5c9a46608ee32a062ecef09d",
       "max": 3,
       "min": -3,
       "step": 0.1,
       "value": -0.1
      }
     },
     "87cf5f35e13a4d989c450867cf143000": {
      "model_module": "jupyter-js-widgets",
      "model_module_version": "~2.1.4",
      "model_name": "FloatSliderModel",
      "state": {
       "_model_module_version": "~2.1.4",
       "_view_module_version": "~2.1.4",
       "description": "x2",
       "layout": "IPY_MODEL_7755d64324c74976b46da107f2e57f00",
       "max": 1,
       "min": -1,
       "step": 0.1
      }
     },
     "8a34958049904dd899a4e7c432b16597": {
      "model_module": "jupyter-js-widgets",
      "model_module_version": "~2.1.4",
      "model_name": "SliderStyleModel",
      "state": {
       "_model_module_version": "~2.1.4",
       "_view_module_version": "~2.1.4"
      }
     },
     "8af8a8b67bff4fdb945255ca394346e0": {
      "model_module": "jupyter-js-widgets",
      "model_module_version": "~2.1.4",
      "model_name": "VBoxModel",
      "state": {
       "_dom_classes": [
        "widget-interact"
       ],
       "_model_module_version": "~2.1.4",
       "_view_module_version": "~2.1.4",
       "children": [
        "IPY_MODEL_1263cc36cbde4df191fc980d0d417089",
        "IPY_MODEL_fe920fa4038043cdb263b91b5e87d53d",
        "IPY_MODEL_30a95e82182642379073c93878c340a1",
        "IPY_MODEL_eb768220146f459abf7d8f9034c429ed",
        "IPY_MODEL_2083ab96399a4053a46aa49ae68b756e",
        "IPY_MODEL_2be36970008e438493af80235d82a1a6",
        "IPY_MODEL_085fdfd4aa5946d6948c642c3318bdc7",
        "IPY_MODEL_5d762c11cd724df0a4a47109ea72c5b4",
        "IPY_MODEL_2ad707af6016426cab9ba52b05d28de6",
        "IPY_MODEL_e71e3861be6a4ddb9eebf86001cc1cd7"
       ],
       "layout": "IPY_MODEL_f6e6b9ca0f2043189277d78952374970"
      }
     },
     "8b05b0fb65f84d9bb5c078177a515b78": {
      "model_module": "jupyter-js-widgets",
      "model_module_version": "~2.1.4",
      "model_name": "FloatSliderModel",
      "state": {
       "_model_module_version": "~2.1.4",
       "_view_module_version": "~2.1.4",
       "description": "x8",
       "layout": "IPY_MODEL_3846da5818b140bdb3712db0205a7660",
       "max": 1,
       "min": -1,
       "step": 0.1
      }
     },
     "90d2386f3705462bb5fa27ae558c6e7e": {
      "model_module": "jupyter-js-widgets",
      "model_module_version": "~2.1.4",
      "model_name": "FloatSliderModel",
      "state": {
       "_model_module_version": "~2.1.4",
       "_view_module_version": "~2.1.4",
       "description": "x6",
       "layout": "IPY_MODEL_d53632b13f434a09840b02cea86b5835",
       "max": 1,
       "min": -1,
       "step": 0.1,
       "value": -0.4
      }
     },
     "92d68b419bca4590b0372a5a5067eb72": {
      "model_module": "jupyter-js-widgets",
      "model_module_version": "~2.1.4",
      "model_name": "FloatSliderModel",
      "state": {
       "_model_module_version": "~2.1.4",
       "_view_module_version": "~2.1.4",
       "description": "x2",
       "layout": "IPY_MODEL_b1796f1b492c401da92f8d75c325e382",
       "max": 2,
       "min": -2,
       "step": 0.1
      }
     },
     "9307e188dfcc433fac082b5e003684e1": {
      "model_module": "jupyter-js-widgets",
      "model_module_version": "~2.1.4",
      "model_name": "LayoutModel",
      "state": {
       "_model_module_version": "~2.1.4",
       "_view_module_version": "~2.1.4"
      }
     },
     "9336b766a7734c0c9e293f242268e261": {
      "model_module": "jupyter-js-widgets",
      "model_module_version": "~2.1.4",
      "model_name": "LayoutModel",
      "state": {
       "_model_module_version": "~2.1.4",
       "_view_module_version": "~2.1.4"
      }
     },
     "939c342624c545f0a066a04904a80d3b": {
      "model_module": "jupyter-js-widgets",
      "model_module_version": "~2.1.4",
      "model_name": "SliderStyleModel",
      "state": {
       "_model_module_version": "~2.1.4",
       "_view_module_version": "~2.1.4"
      }
     },
     "93d06a3a1f394ffaab8932b9a20d38ba": {
      "model_module": "jupyter-js-widgets",
      "model_module_version": "~2.1.4",
      "model_name": "LayoutModel",
      "state": {
       "_model_module_version": "~2.1.4",
       "_view_module_version": "~2.1.4"
      }
     },
     "9599011936c141249cfbfd8ef2ee53cf": {
      "model_module": "jupyter-js-widgets",
      "model_module_version": "~2.1.4",
      "model_name": "LayoutModel",
      "state": {
       "_model_module_version": "~2.1.4",
       "_view_module_version": "~2.1.4"
      }
     },
     "965fa3fd74da4b1295b7ad23713e0ee3": {
      "model_module": "jupyter-js-widgets",
      "model_module_version": "~2.1.4",
      "model_name": "LayoutModel",
      "state": {
       "_model_module_version": "~2.1.4",
       "_view_module_version": "~2.1.4"
      }
     },
     "96f67974922e4aad90c017fe3c95960c": {
      "model_module": "jupyter-js-widgets",
      "model_module_version": "~2.1.4",
      "model_name": "FloatSliderModel",
      "state": {
       "_model_module_version": "~2.1.4",
       "_view_module_version": "~2.1.4",
       "description": "x3",
       "layout": "IPY_MODEL_d12353c2a498400c9c37cb84e0684fdb",
       "max": 3,
       "min": -3,
       "step": 0.1
      }
     },
     "99017b6b55fc42c5a68015af28a1e9f8": {
      "model_module": "jupyter-js-widgets",
      "model_module_version": "~2.1.4",
      "model_name": "LayoutModel",
      "state": {
       "_model_module_version": "~2.1.4",
       "_view_module_version": "~2.1.4"
      }
     },
     "9b80972187fb4332a0a5c1b1b055178b": {
      "model_module": "jupyter-js-widgets",
      "model_module_version": "~2.1.4",
      "model_name": "LayoutModel",
      "state": {
       "_model_module_version": "~2.1.4",
       "_view_module_version": "~2.1.4"
      }
     },
     "9c7a53f54ab0483aa8d2479d01d33dfb": {
      "model_module": "jupyter-js-widgets",
      "model_module_version": "~2.1.4",
      "model_name": "FloatSliderModel",
      "state": {
       "_model_module_version": "~2.1.4",
       "_view_module_version": "~2.1.4",
       "description": "x2",
       "layout": "IPY_MODEL_d550275aaeb045e79fa69d7d92cc6877",
       "max": 3,
       "min": -3,
       "step": 0.1,
       "value": -0.9
      }
     },
     "9de1993f3eaf4c6194b024efa8561ba6": {
      "model_module": "jupyter-js-widgets",
      "model_module_version": "~2.1.4",
      "model_name": "IntSliderModel",
      "state": {
       "_model_module_version": "~2.1.4",
       "_view_module_version": "~2.1.4",
       "description": "num",
       "layout": "IPY_MODEL_7eadb59966274f7ea99d880afa717396",
       "max": 9,
       "style": "IPY_MODEL_3d6503f70be749868b1ca2b0a809d96d",
       "value": 4
      }
     },
     "9fd0d9e241f549e79e84194b7b270d14": {
      "model_module": "jupyter-js-widgets",
      "model_module_version": "~2.1.4",
      "model_name": "IntSliderModel",
      "state": {
       "_model_module_version": "~2.1.4",
       "_view_module_version": "~2.1.4",
       "description": "num",
       "layout": "IPY_MODEL_0e97134efc7d42f0a1000219f97a2601",
       "max": 9,
       "style": "IPY_MODEL_dd222142f24d4f519da5f6ba0ab9c4b3",
       "value": 4
      }
     },
     "a575769cc4bc4cbb906a9ad407ecec09": {
      "model_module": "jupyter-js-widgets",
      "model_module_version": "~2.1.4",
      "model_name": "OutputModel",
      "state": {
       "_dom_classes": [],
       "_model_module": "jupyter-js-widgets",
       "_model_module_version": "~2.1.4",
       "_view_module": "jupyter-js-widgets",
       "_view_module_version": "~2.1.4",
       "layout": "IPY_MODEL_81bdd56d78ad44098db8eb7a9cad2904",
       "msg_throttle": 1
      }
     },
     "a6256d0263a9417d9ae224f216d6484c": {
      "model_module": "jupyter-js-widgets",
      "model_module_version": "~2.1.4",
      "model_name": "LayoutModel",
      "state": {
       "_model_module_version": "~2.1.4",
       "_view_module_version": "~2.1.4"
      }
     },
     "a7c1e478b0384146bd39a1b73f95c159": {
      "model_module": "jupyter-js-widgets",
      "model_module_version": "~2.1.4",
      "model_name": "FloatSliderModel",
      "state": {
       "_model_module_version": "~2.1.4",
       "_view_module_version": "~2.1.4",
       "description": "x6",
       "layout": "IPY_MODEL_f93c77072d894f42918f9dc83edc11b6",
       "max": 1,
       "step": 0.1
      }
     },
     "a7f47c75564c48329d0a0b987dbd1baa": {
      "model_module": "jupyter-js-widgets",
      "model_module_version": "~2.1.4",
      "model_name": "LayoutModel",
      "state": {
       "_model_module_version": "~2.1.4",
       "_view_module_version": "~2.1.4"
      }
     },
     "a8478f08f1ca4469aea6d5b6b6fe1e1f": {
      "model_module": "jupyter-js-widgets",
      "model_module_version": "~2.1.4",
      "model_name": "FloatSliderModel",
      "state": {
       "_model_module_version": "~2.1.4",
       "_view_module_version": "~2.1.4",
       "description": "x4",
       "layout": "IPY_MODEL_1f827583a7a54ea18bade77dbd8990d7",
       "max": 1,
       "step": 0.1
      }
     },
     "aa4d31b837a44afea6cdb3284affa57d": {
      "model_module": "jupyter-js-widgets",
      "model_module_version": "~2.1.4",
      "model_name": "LayoutModel",
      "state": {
       "_model_module_version": "~2.1.4",
       "_view_module_version": "~2.1.4"
      }
     },
     "aa78866623d34884b8841aab4f6cc323": {
      "model_module": "jupyter-js-widgets",
      "model_module_version": "~2.1.4",
      "model_name": "FloatSliderModel",
      "state": {
       "_model_module_version": "~2.1.4",
       "_view_module_version": "~2.1.4",
       "description": "x7",
       "layout": "IPY_MODEL_fbb92e3a550a41879e379726788d5024",
       "max": 1,
       "min": -1,
       "step": 0.1
      }
     },
     "aa8c8bc83eec460492325e71adadf438": {
      "model_module": "jupyter-js-widgets",
      "model_module_version": "~2.1.4",
      "model_name": "FloatSliderModel",
      "state": {
       "_model_module_version": "~2.1.4",
       "_view_module_version": "~2.1.4",
       "description": "x2",
       "layout": "IPY_MODEL_5adf8fec5dc34c31a51957df2ca607f9",
       "max": 1,
       "min": -1,
       "step": 0.1,
       "value": 1
      }
     },
     "abea724c81b4432181af06128d16843b": {
      "model_module": "jupyter-js-widgets",
      "model_module_version": "~2.1.4",
      "model_name": "VBoxModel",
      "state": {
       "_dom_classes": [
        "widget-interact"
       ],
       "_model_module_version": "~2.1.4",
       "_view_module_version": "~2.1.4",
       "children": [
        "IPY_MODEL_5f48b3f56b284c8a8a73f68cad193c42",
        "IPY_MODEL_73264235d3f24440a81eebc9578c270e",
        "IPY_MODEL_92d68b419bca4590b0372a5a5067eb72",
        "IPY_MODEL_e1cabebe615a48f9817463809bf01da9",
        "IPY_MODEL_4cc761d420e04252ad47dc85d576e70e",
        "IPY_MODEL_a575769cc4bc4cbb906a9ad407ecec09"
       ],
       "layout": "IPY_MODEL_6858e0fc96634269b0bad8cfc32bf2a4"
      }
     },
     "ac4f052b651f4dedb9575a559e9d84b1": {
      "model_module": "jupyter-js-widgets",
      "model_module_version": "~2.1.4",
      "model_name": "LayoutModel",
      "state": {
       "_model_module_version": "~2.1.4",
       "_view_module_version": "~2.1.4"
      }
     },
     "ae35945ee0b94333af98adae16b03554": {
      "model_module": "jupyter-js-widgets",
      "model_module_version": "~2.1.4",
      "model_name": "LayoutModel",
      "state": {
       "_model_module_version": "~2.1.4",
       "_view_module_version": "~2.1.4"
      }
     },
     "af30edfdaecc4857b62ea346a2e393c8": {
      "model_module": "jupyter-js-widgets",
      "model_module_version": "~2.1.4",
      "model_name": "LayoutModel",
      "state": {
       "_model_module_version": "~2.1.4",
       "_view_module_version": "~2.1.4"
      }
     },
     "afee030f6e5e443c87aac0a27913e470": {
      "model_module": "jupyter-js-widgets",
      "model_module_version": "~2.1.4",
      "model_name": "LayoutModel",
      "state": {
       "_model_module_version": "~2.1.4",
       "_view_module_version": "~2.1.4"
      }
     },
     "b0db2ad55dc14b5d9c18f159071c228f": {
      "model_module": "jupyter-js-widgets",
      "model_module_version": "~2.1.4",
      "model_name": "FloatSliderModel",
      "state": {
       "_model_module_version": "~2.1.4",
       "_view_module_version": "~2.1.4",
       "description": "x5",
       "layout": "IPY_MODEL_1c4ae38a934b41e797846d1eac00b0f1",
       "max": 1,
       "min": -1,
       "step": 0.1,
       "value": 0.4
      }
     },
     "b1645269f0d442ad85ded32be58f1ced": {
      "model_module": "jupyter-js-widgets",
      "model_module_version": "~2.1.4",
      "model_name": "OutputModel",
      "state": {
       "_dom_classes": [],
       "_model_module": "jupyter-js-widgets",
       "_model_module_version": "~2.1.4",
       "_view_module": "jupyter-js-widgets",
       "_view_module_version": "~2.1.4",
       "layout": "IPY_MODEL_3aa4f7ef35dd4e2289a91ad5bd08f466",
       "msg_throttle": 1
      }
     },
     "b1796f1b492c401da92f8d75c325e382": {
      "model_module": "jupyter-js-widgets",
      "model_module_version": "~2.1.4",
      "model_name": "LayoutModel",
      "state": {
       "_model_module_version": "~2.1.4",
       "_view_module_version": "~2.1.4"
      }
     },
     "b2e5aa18443843b2a9ba87eaec8a9f3f": {
      "model_module": "jupyter-js-widgets",
      "model_module_version": "~2.1.4",
      "model_name": "LayoutModel",
      "state": {
       "_model_module_version": "~2.1.4",
       "_view_module_version": "~2.1.4"
      }
     },
     "b307776109c749719b8d7f9911d0af9a": {
      "model_module": "jupyter-js-widgets",
      "model_module_version": "~2.1.4",
      "model_name": "LayoutModel",
      "state": {
       "_model_module_version": "~2.1.4",
       "_view_module_version": "~2.1.4"
      }
     },
     "b47b8074c6ac4e03b15c9db4efe2578e": {
      "model_module": "jupyter-js-widgets",
      "model_module_version": "~2.1.4",
      "model_name": "LayoutModel",
      "state": {
       "_model_module_version": "~2.1.4",
       "_view_module_version": "~2.1.4"
      }
     },
     "b6fb9ee53fe248c992d42d603503e241": {
      "model_module": "jupyter-js-widgets",
      "model_module_version": "~2.1.4",
      "model_name": "LayoutModel",
      "state": {
       "_model_module_version": "~2.1.4",
       "_view_module_version": "~2.1.4"
      }
     },
     "b946e13adc7948a0a5980c61b81e6f13": {
      "model_module": "jupyter-js-widgets",
      "model_module_version": "~2.1.4",
      "model_name": "FloatSliderModel",
      "state": {
       "_model_module_version": "~2.1.4",
       "_view_module_version": "~2.1.4",
       "description": "x2",
       "layout": "IPY_MODEL_c1658904ae0745abbed27cdce8298002",
       "max": 1,
       "min": -1,
       "step": 0.1,
       "value": -0.2
      }
     },
     "b9d0ee9b25ee4605afe4c4e8801fa8d5": {
      "model_module": "jupyter-js-widgets",
      "model_module_version": "~2.1.4",
      "model_name": "FloatSliderModel",
      "state": {
       "_model_module_version": "~2.1.4",
       "_view_module_version": "~2.1.4",
       "description": "x4",
       "layout": "IPY_MODEL_34a92d363fef4070ad52d1c5ab44e82b",
       "max": 1,
       "min": -1,
       "step": 0.1,
       "value": 1
      }
     },
     "babbd15149084d189f592320f13ddb06": {
      "model_module": "jupyter-js-widgets",
      "model_module_version": "~2.1.4",
      "model_name": "FloatSliderModel",
      "state": {
       "_model_module_version": "~2.1.4",
       "_view_module_version": "~2.1.4",
       "description": "x2",
       "layout": "IPY_MODEL_eb5a594385ee496081574448e2321b47",
       "max": 1,
       "min": -1,
       "step": 0.1,
       "value": 0.1
      }
     },
     "bf6562be806042a886425fdf05556d3f": {
      "model_module": "jupyter-js-widgets",
      "model_module_version": "~2.1.4",
      "model_name": "OutputModel",
      "state": {
       "_dom_classes": [],
       "_model_module": "jupyter-js-widgets",
       "_model_module_version": "~2.1.4",
       "_view_module": "jupyter-js-widgets",
       "_view_module_version": "~2.1.4",
       "layout": "IPY_MODEL_e047f286884e44e0842e4c493fa00a3f",
       "msg_throttle": 1
      }
     },
     "c0a16106aa2c4911b7d9a9933dfc9954": {
      "model_module": "jupyter-js-widgets",
      "model_module_version": "~2.1.4",
      "model_name": "LayoutModel",
      "state": {
       "_model_module_version": "~2.1.4",
       "_view_module_version": "~2.1.4"
      }
     },
     "c1658904ae0745abbed27cdce8298002": {
      "model_module": "jupyter-js-widgets",
      "model_module_version": "~2.1.4",
      "model_name": "LayoutModel",
      "state": {
       "_model_module_version": "~2.1.4",
       "_view_module_version": "~2.1.4"
      }
     },
     "c36d702089a44733a187508ecff2242e": {
      "model_module": "jupyter-js-widgets",
      "model_module_version": "~2.1.4",
      "model_name": "VBoxModel",
      "state": {
       "_dom_classes": [
        "widget-interact"
       ],
       "_model_module_version": "~2.1.4",
       "_view_module_version": "~2.1.4",
       "children": [
        "IPY_MODEL_679b832d69f646dd8746d30d23bd93ea",
        "IPY_MODEL_87986e13d975451f826cffe020df1207",
        "IPY_MODEL_3129ffa6d4b5461c93d91e613c9e1610",
        "IPY_MODEL_c389b0941829423e8c753c29519d5f7c",
        "IPY_MODEL_2d867c9b1ba24eed81ca8873987c8da7",
        "IPY_MODEL_59f3154801c24bf286660edf4f7db1be"
       ],
       "layout": "IPY_MODEL_72713796151a4b9eb9de55bd9240978b"
      }
     },
     "c389b0941829423e8c753c29519d5f7c": {
      "model_module": "jupyter-js-widgets",
      "model_module_version": "~2.1.4",
      "model_name": "FloatSliderModel",
      "state": {
       "_model_module_version": "~2.1.4",
       "_view_module_version": "~2.1.4",
       "description": "x3",
       "layout": "IPY_MODEL_6b616c6d7a9b40afad6df96a327e1bc5",
       "max": 3,
       "min": -3,
       "step": 0.1
      }
     },
     "c3d7afbd53264be9a1419f3c02f1e467": {
      "model_module": "jupyter-js-widgets",
      "model_module_version": "~2.1.4",
      "model_name": "OutputModel",
      "state": {
       "_dom_classes": [],
       "_model_module": "jupyter-js-widgets",
       "_model_module_version": "~2.1.4",
       "_view_module": "jupyter-js-widgets",
       "_view_module_version": "~2.1.4",
       "layout": "IPY_MODEL_6d40e0ca540b41c1b5c9118a7589ce52",
       "msg_throttle": 1
      }
     },
     "c45ce51c0f85422aac51f218b8f43805": {
      "model_module": "jupyter-js-widgets",
      "model_module_version": "~2.1.4",
      "model_name": "FloatSliderModel",
      "state": {
       "_model_module_version": "~2.1.4",
       "_view_module_version": "~2.1.4",
       "description": "x7",
       "layout": "IPY_MODEL_58823b107cb94d1090f87a7d9c47ca60",
       "max": 1,
       "min": -1,
       "step": 0.1,
       "value": 1
      }
     },
     "c56edb1d7ca945a7a78709e776e5be02": {
      "model_module": "jupyter-js-widgets",
      "model_module_version": "~2.1.4",
      "model_name": "VBoxModel",
      "state": {
       "_dom_classes": [
        "widget-interact"
       ],
       "_model_module_version": "~2.1.4",
       "_view_module_version": "~2.1.4",
       "children": [
        "IPY_MODEL_edeb65e9da6a4380a02758615bfcec67",
        "IPY_MODEL_7739cfa153654ea18764a0e4fdce7170",
        "IPY_MODEL_9c7a53f54ab0483aa8d2479d01d33dfb",
        "IPY_MODEL_0335ba3f01164d908f3dab676197ad22",
        "IPY_MODEL_d2055a610dce47c8b700a686607b5f2e",
        "IPY_MODEL_c3d7afbd53264be9a1419f3c02f1e467"
       ],
       "layout": "IPY_MODEL_ed11d344395148ba8ace67874a665e9d"
      }
     },
     "c7de7d1eef5343afbe9ec2cc7aea90f4": {
      "model_module": "jupyter-js-widgets",
      "model_module_version": "~2.1.4",
      "model_name": "LayoutModel",
      "state": {
       "_model_module_version": "~2.1.4",
       "_view_module_version": "~2.1.4"
      }
     },
     "c83d9517062c420db4964f2ba99fcbb3": {
      "model_module": "jupyter-js-widgets",
      "model_module_version": "~2.1.4",
      "model_name": "FloatSliderModel",
      "state": {
       "_model_module_version": "~2.1.4",
       "_view_module_version": "~2.1.4",
       "description": "x2",
       "layout": "IPY_MODEL_3f5bab0742e5437b8b0e296e927187ef",
       "max": 3,
       "min": -3,
       "step": 0.1
      }
     },
     "c9a5f9e91e0f429eb286372670d3f838": {
      "model_module": "jupyter-js-widgets",
      "model_module_version": "~2.1.4",
      "model_name": "LayoutModel",
      "state": {
       "_model_module_version": "~2.1.4",
       "_view_module_version": "~2.1.4"
      }
     },
     "cb0b22b78c184e53862bba7a40309732": {
      "model_module": "jupyter-js-widgets",
      "model_module_version": "~2.1.4",
      "model_name": "FloatSliderModel",
      "state": {
       "_model_module_version": "~2.1.4",
       "_view_module_version": "~2.1.4",
       "description": "x4",
       "layout": "IPY_MODEL_2cab09736381408180db5fe93a20f34a",
       "max": 3,
       "min": -3,
       "step": 0.1
      }
     },
     "cc3ab241b6614069bd008c7033539c02": {
      "model_module": "jupyter-js-widgets",
      "model_module_version": "~2.1.4",
      "model_name": "LayoutModel",
      "state": {
       "_model_module_version": "~2.1.4",
       "_view_module_version": "~2.1.4"
      }
     },
     "cd1b5c40972b44b699458e204f2cab44": {
      "model_module": "jupyter-js-widgets",
      "model_module_version": "~2.1.4",
      "model_name": "LayoutModel",
      "state": {
       "_model_module_version": "~2.1.4",
       "_view_module_version": "~2.1.4"
      }
     },
     "ceb2073677554130bf28bb331dd9e2a3": {
      "model_module": "jupyter-js-widgets",
      "model_module_version": "~2.1.4",
      "model_name": "LayoutModel",
      "state": {
       "_model_module_version": "~2.1.4",
       "_view_module_version": "~2.1.4"
      }
     },
     "d12353c2a498400c9c37cb84e0684fdb": {
      "model_module": "jupyter-js-widgets",
      "model_module_version": "~2.1.4",
      "model_name": "LayoutModel",
      "state": {
       "_model_module_version": "~2.1.4",
       "_view_module_version": "~2.1.4"
      }
     },
     "d1d5135b4cca49f9af831060aa69fc69": {
      "model_module": "jupyter-js-widgets",
      "model_module_version": "~2.1.4",
      "model_name": "OutputModel",
      "state": {
       "_dom_classes": [],
       "_model_module": "jupyter-js-widgets",
       "_model_module_version": "~2.1.4",
       "_view_module": "jupyter-js-widgets",
       "_view_module_version": "~2.1.4",
       "layout": "IPY_MODEL_2cf74e93fee245579ea1cdded7fba6bd",
       "msg_throttle": 1
      }
     },
     "d2055a610dce47c8b700a686607b5f2e": {
      "model_module": "jupyter-js-widgets",
      "model_module_version": "~2.1.4",
      "model_name": "FloatSliderModel",
      "state": {
       "_model_module_version": "~2.1.4",
       "_view_module_version": "~2.1.4",
       "description": "x4",
       "layout": "IPY_MODEL_aa4d31b837a44afea6cdb3284affa57d",
       "max": 3,
       "min": -3,
       "step": 0.1,
       "value": -1.1
      }
     },
     "d37ab447583a4c2aa7748be5edaa57a6": {
      "model_module": "jupyter-js-widgets",
      "model_module_version": "~2.1.4",
      "model_name": "IntSliderModel",
      "state": {
       "_model_module_version": "~2.1.4",
       "_view_module_version": "~2.1.4",
       "description": "num",
       "layout": "IPY_MODEL_afee030f6e5e443c87aac0a27913e470",
       "max": 9,
       "style": "IPY_MODEL_0a5f4e9288d5461e95023fc974525b61",
       "value": 6
      }
     },
     "d50785bff4fc4a639045fcba651f4f18": {
      "model_module": "jupyter-js-widgets",
      "model_module_version": "~2.1.4",
      "model_name": "IntSliderModel",
      "state": {
       "_model_module_version": "~2.1.4",
       "_view_module_version": "~2.1.4",
       "description": "num",
       "layout": "IPY_MODEL_5dfa2efb34b644a58fb7d56c8e1fa97a",
       "max": 9,
       "style": "IPY_MODEL_939c342624c545f0a066a04904a80d3b",
       "value": 4
      }
     },
     "d5334fae437d47bea308bcedfb00d84f": {
      "model_module": "jupyter-js-widgets",
      "model_module_version": "~2.1.4",
      "model_name": "LayoutModel",
      "state": {
       "_model_module_version": "~2.1.4",
       "_view_module_version": "~2.1.4"
      }
     },
     "d53632b13f434a09840b02cea86b5835": {
      "model_module": "jupyter-js-widgets",
      "model_module_version": "~2.1.4",
      "model_name": "LayoutModel",
      "state": {
       "_model_module_version": "~2.1.4",
       "_view_module_version": "~2.1.4"
      }
     },
     "d550275aaeb045e79fa69d7d92cc6877": {
      "model_module": "jupyter-js-widgets",
      "model_module_version": "~2.1.4",
      "model_name": "LayoutModel",
      "state": {
       "_model_module_version": "~2.1.4",
       "_view_module_version": "~2.1.4"
      }
     },
     "da58df6e9fce490b80d3f1ebc1ff6259": {
      "model_module": "jupyter-js-widgets",
      "model_module_version": "~2.1.4",
      "model_name": "LayoutModel",
      "state": {
       "_model_module_version": "~2.1.4",
       "_view_module_version": "~2.1.4"
      }
     },
     "dd043ddf6ea9497baa4098dacf56405e": {
      "model_module": "jupyter-js-widgets",
      "model_module_version": "~2.1.4",
      "model_name": "LayoutModel",
      "state": {
       "_model_module_version": "~2.1.4",
       "_view_module_version": "~2.1.4"
      }
     },
     "dd222142f24d4f519da5f6ba0ab9c4b3": {
      "model_module": "jupyter-js-widgets",
      "model_module_version": "~2.1.4",
      "model_name": "SliderStyleModel",
      "state": {
       "_model_module_version": "~2.1.4",
       "_view_module_version": "~2.1.4"
      }
     },
     "dd4c64a6174647b6a238533f9f88cdb0": {
      "model_module": "jupyter-js-widgets",
      "model_module_version": "~2.1.4",
      "model_name": "LayoutModel",
      "state": {
       "_model_module_version": "~2.1.4",
       "_view_module_version": "~2.1.4"
      }
     },
     "de58f62aed0849c199e69b2242daf60e": {
      "model_module": "jupyter-js-widgets",
      "model_module_version": "~2.1.4",
      "model_name": "LayoutModel",
      "state": {
       "_model_module_version": "~2.1.4",
       "_view_module_version": "~2.1.4"
      }
     },
     "dec1d18e5c9a46608ee32a062ecef09d": {
      "model_module": "jupyter-js-widgets",
      "model_module_version": "~2.1.4",
      "model_name": "LayoutModel",
      "state": {
       "_model_module_version": "~2.1.4",
       "_view_module_version": "~2.1.4"
      }
     },
     "df3e83469d504848806a9b97dd76954e": {
      "model_module": "jupyter-js-widgets",
      "model_module_version": "~2.1.4",
      "model_name": "FloatSliderModel",
      "state": {
       "_model_module_version": "~2.1.4",
       "_view_module_version": "~2.1.4",
       "description": "x4",
       "layout": "IPY_MODEL_9336b766a7734c0c9e293f242268e261",
       "max": 1,
       "min": -1,
       "step": 0.1,
       "value": -0.1
      }
     },
     "e047f286884e44e0842e4c493fa00a3f": {
      "model_module": "jupyter-js-widgets",
      "model_module_version": "~2.1.4",
      "model_name": "LayoutModel",
      "state": {
       "_model_module_version": "~2.1.4",
       "_view_module_version": "~2.1.4"
      }
     },
     "e18bbe4acc94471eb9d7d40a58aaa70f": {
      "model_module": "jupyter-js-widgets",
      "model_module_version": "~2.1.4",
      "model_name": "LayoutModel",
      "state": {
       "_model_module_version": "~2.1.4",
       "_view_module_version": "~2.1.4"
      }
     },
     "e1cabebe615a48f9817463809bf01da9": {
      "model_module": "jupyter-js-widgets",
      "model_module_version": "~2.1.4",
      "model_name": "FloatSliderModel",
      "state": {
       "_model_module_version": "~2.1.4",
       "_view_module_version": "~2.1.4",
       "description": "x3",
       "layout": "IPY_MODEL_3a23c8ef72ba4455a5a84ea60646d0cd",
       "max": 2,
       "min": -2,
       "step": 0.1,
       "value": -0.5
      }
     },
     "e29bc99da3b24e4aad77be530b945227": {
      "model_module": "jupyter-js-widgets",
      "model_module_version": "~2.1.4",
      "model_name": "FloatSliderModel",
      "state": {
       "_model_module_version": "~2.1.4",
       "_view_module_version": "~2.1.4",
       "description": "x8",
       "layout": "IPY_MODEL_99017b6b55fc42c5a68015af28a1e9f8",
       "max": 1,
       "step": 0.1
      }
     },
     "e5e14edc9c45499eb1e805f45d8e08e9": {
      "model_module": "jupyter-js-widgets",
      "model_module_version": "~2.1.4",
      "model_name": "IntSliderModel",
      "state": {
       "_model_module_version": "~2.1.4",
       "_view_module_version": "~2.1.4",
       "description": "num",
       "layout": "IPY_MODEL_ae35945ee0b94333af98adae16b03554",
       "max": 9,
       "style": "IPY_MODEL_132c73cbe7ca4c2cb1d925e71ba25dd4",
       "value": 2
      }
     },
     "e61f5ec2062d4215a37739659f1ff47b": {
      "model_module": "jupyter-js-widgets",
      "model_module_version": "~2.1.4",
      "model_name": "SliderStyleModel",
      "state": {
       "_model_module_version": "~2.1.4",
       "_view_module_version": "~2.1.4"
      }
     },
     "e71e3861be6a4ddb9eebf86001cc1cd7": {
      "model_module": "jupyter-js-widgets",
      "model_module_version": "~2.1.4",
      "model_name": "OutputModel",
      "state": {
       "_dom_classes": [],
       "_model_module": "jupyter-js-widgets",
       "_model_module_version": "~2.1.4",
       "_view_module": "jupyter-js-widgets",
       "_view_module_version": "~2.1.4",
       "layout": "IPY_MODEL_ebecc3912c944a20acf06f3837eafdca",
       "msg_throttle": 1
      }
     },
     "e96ad3386b67413d996bddb928efa4c5": {
      "model_module": "jupyter-js-widgets",
      "model_module_version": "~2.1.4",
      "model_name": "IntSliderModel",
      "state": {
       "_model_module_version": "~2.1.4",
       "_view_module_version": "~2.1.4",
       "description": "num",
       "layout": "IPY_MODEL_e18bbe4acc94471eb9d7d40a58aaa70f",
       "max": 9,
       "style": "IPY_MODEL_874b87e24839411490fd15c0105764af",
       "value": 4
      }
     },
     "eb5a594385ee496081574448e2321b47": {
      "model_module": "jupyter-js-widgets",
      "model_module_version": "~2.1.4",
      "model_name": "LayoutModel",
      "state": {
       "_model_module_version": "~2.1.4",
       "_view_module_version": "~2.1.4"
      }
     },
     "eb768220146f459abf7d8f9034c429ed": {
      "model_module": "jupyter-js-widgets",
      "model_module_version": "~2.1.4",
      "model_name": "FloatSliderModel",
      "state": {
       "_model_module_version": "~2.1.4",
       "_view_module_version": "~2.1.4",
       "description": "x3",
       "layout": "IPY_MODEL_216aea23b79042e28d78beebd4929623",
       "max": 1,
       "min": -1,
       "step": 0.1,
       "value": -0.3
      }
     },
     "ebecc3912c944a20acf06f3837eafdca": {
      "model_module": "jupyter-js-widgets",
      "model_module_version": "~2.1.4",
      "model_name": "LayoutModel",
      "state": {
       "_model_module_version": "~2.1.4",
       "_view_module_version": "~2.1.4"
      }
     },
     "ec68c32244a740faa8ac59eb3b3e6726": {
      "model_module": "jupyter-js-widgets",
      "model_module_version": "~2.1.4",
      "model_name": "IntSliderModel",
      "state": {
       "_model_module_version": "~2.1.4",
       "_view_module_version": "~2.1.4",
       "description": "num",
       "layout": "IPY_MODEL_c7de7d1eef5343afbe9ec2cc7aea90f4",
       "max": 9,
       "style": "IPY_MODEL_2e0559495e414f3e8b4233b719603947",
       "value": 7
      }
     },
     "ed11d344395148ba8ace67874a665e9d": {
      "model_module": "jupyter-js-widgets",
      "model_module_version": "~2.1.4",
      "model_name": "LayoutModel",
      "state": {
       "_model_module_version": "~2.1.4",
       "_view_module_version": "~2.1.4"
      }
     },
     "edc55a778e7b45d6889018fce35c5ba6": {
      "model_module": "jupyter-js-widgets",
      "model_module_version": "~2.1.4",
      "model_name": "FloatSliderModel",
      "state": {
       "_model_module_version": "~2.1.4",
       "_view_module_version": "~2.1.4",
       "description": "x5",
       "layout": "IPY_MODEL_4cf80018154f414385ae0d661d35b496",
       "max": 1,
       "min": -1,
       "step": 0.1,
       "value": 0.5
      }
     },
     "edeb65e9da6a4380a02758615bfcec67": {
      "model_module": "jupyter-js-widgets",
      "model_module_version": "~2.1.4",
      "model_name": "IntSliderModel",
      "state": {
       "_model_module_version": "~2.1.4",
       "_view_module_version": "~2.1.4",
       "description": "num",
       "layout": "IPY_MODEL_50c14b99ba3447e6aa1dca4d91632475",
       "max": 9,
       "style": "IPY_MODEL_8a34958049904dd899a4e7c432b16597",
       "value": 4
      }
     },
     "ef77189250b04b8eae7761731bb44018": {
      "model_module": "jupyter-js-widgets",
      "model_module_version": "~2.1.4",
      "model_name": "FloatSliderModel",
      "state": {
       "_model_module_version": "~2.1.4",
       "_view_module_version": "~2.1.4",
       "description": "x3",
       "layout": "IPY_MODEL_5ce190e16a704a0280eb91556eec25fa",
       "max": 1,
       "min": -1,
       "step": 0.1,
       "value": -0.5
      }
     },
     "f04634b9545e433081fb132fb244ae31": {
      "model_module": "jupyter-js-widgets",
      "model_module_version": "~2.1.4",
      "model_name": "LayoutModel",
      "state": {
       "_model_module_version": "~2.1.4",
       "_view_module_version": "~2.1.4"
      }
     },
     "f13fb35995e1415a92fadcf5887a9668": {
      "model_module": "jupyter-js-widgets",
      "model_module_version": "~2.1.4",
      "model_name": "LayoutModel",
      "state": {
       "_model_module_version": "~2.1.4",
       "_view_module_version": "~2.1.4"
      }
     },
     "f2e3f139a1684928951162021718e00a": {
      "model_module": "jupyter-js-widgets",
      "model_module_version": "~2.1.4",
      "model_name": "LayoutModel",
      "state": {
       "_model_module_version": "~2.1.4",
       "_view_module_version": "~2.1.4"
      }
     },
     "f60d838d8d724aa8a632a090ff5dae32": {
      "model_module": "jupyter-js-widgets",
      "model_module_version": "~2.1.4",
      "model_name": "FloatSliderModel",
      "state": {
       "_model_module_version": "~2.1.4",
       "_view_module_version": "~2.1.4",
       "description": "x1",
       "layout": "IPY_MODEL_30c608cae8724480a4f30c497073de1e",
       "max": 1,
       "min": -1,
       "step": 0.1,
       "value": -0.1
      }
     },
     "f61e49b15e63445795d3dc8749fe0865": {
      "model_module": "jupyter-js-widgets",
      "model_module_version": "~2.1.4",
      "model_name": "LayoutModel",
      "state": {
       "_model_module_version": "~2.1.4",
       "_view_module_version": "~2.1.4"
      }
     },
     "f6e6b9ca0f2043189277d78952374970": {
      "model_module": "jupyter-js-widgets",
      "model_module_version": "~2.1.4",
      "model_name": "LayoutModel",
      "state": {
       "_model_module_version": "~2.1.4",
       "_view_module_version": "~2.1.4"
      }
     },
     "f872fd2942564157b577da7b909ec152": {
      "model_module": "jupyter-js-widgets",
      "model_module_version": "~2.1.4",
      "model_name": "VBoxModel",
      "state": {
       "_dom_classes": [
        "widget-interact"
       ],
       "_model_module_version": "~2.1.4",
       "_view_module_version": "~2.1.4",
       "children": [
        "IPY_MODEL_d50785bff4fc4a639045fcba651f4f18",
        "IPY_MODEL_0540eeb796494f029a454be56f87f028",
        "IPY_MODEL_2f56f4225f8942e6920f152a6980171b",
        "IPY_MODEL_513bee4103f349688612aa1ecc160503",
        "IPY_MODEL_a8478f08f1ca4469aea6d5b6b6fe1e1f",
        "IPY_MODEL_6064a275bb0e41d5ad673c36f1684271",
        "IPY_MODEL_a7c1e478b0384146bd39a1b73f95c159",
        "IPY_MODEL_1d1e175602a74d2f8e1ac9640927c78a",
        "IPY_MODEL_e29bc99da3b24e4aad77be530b945227",
        "IPY_MODEL_69b30a21da49452ea69b21cb4b314739"
       ],
       "layout": "IPY_MODEL_2e5900de3d31477481a409c85a90a35e"
      }
     },
     "f93c77072d894f42918f9dc83edc11b6": {
      "model_module": "jupyter-js-widgets",
      "model_module_version": "~2.1.4",
      "model_name": "LayoutModel",
      "state": {
       "_model_module_version": "~2.1.4",
       "_view_module_version": "~2.1.4"
      }
     },
     "f9c750c446754c59a52258c39f3ea0a4": {
      "model_module": "jupyter-js-widgets",
      "model_module_version": "~2.1.4",
      "model_name": "LayoutModel",
      "state": {
       "_model_module_version": "~2.1.4",
       "_view_module_version": "~2.1.4"
      }
     },
     "fbb92e3a550a41879e379726788d5024": {
      "model_module": "jupyter-js-widgets",
      "model_module_version": "~2.1.4",
      "model_name": "LayoutModel",
      "state": {
       "_model_module_version": "~2.1.4",
       "_view_module_version": "~2.1.4"
      }
     },
     "fc50aa99ebe042c8935ca7e90fe70f16": {
      "model_module": "jupyter-js-widgets",
      "model_module_version": "~2.1.4",
      "model_name": "LayoutModel",
      "state": {
       "_model_module_version": "~2.1.4",
       "_view_module_version": "~2.1.4"
      }
     },
     "fcdaf1a2e677406c8edf5a7b7cbf3187": {
      "model_module": "jupyter-js-widgets",
      "model_module_version": "~2.1.4",
      "model_name": "VBoxModel",
      "state": {
       "_dom_classes": [
        "widget-interact"
       ],
       "_model_module_version": "~2.1.4",
       "_view_module_version": "~2.1.4",
       "children": [
        "IPY_MODEL_ec68c32244a740faa8ac59eb3b3e6726",
        "IPY_MODEL_65c289195d754f2ba3faa870a308f151",
        "IPY_MODEL_babbd15149084d189f592320f13ddb06",
        "IPY_MODEL_ef77189250b04b8eae7761731bb44018",
        "IPY_MODEL_df3e83469d504848806a9b97dd76954e",
        "IPY_MODEL_bf6562be806042a886425fdf05556d3f"
       ],
       "layout": "IPY_MODEL_b47b8074c6ac4e03b15c9db4efe2578e"
      }
     },
     "fe920fa4038043cdb263b91b5e87d53d": {
      "model_module": "jupyter-js-widgets",
      "model_module_version": "~2.1.4",
      "model_name": "FloatSliderModel",
      "state": {
       "_model_module_version": "~2.1.4",
       "_view_module_version": "~2.1.4",
       "description": "x1",
       "layout": "IPY_MODEL_11e0d009848b4f028286c618ed9b7e91",
       "max": 1,
       "min": -1,
       "step": 0.1
      }
     },
     "febf0a1a96a64f0a9f385546c8b40ea0": {
      "model_module": "jupyter-js-widgets",
      "model_module_version": "~2.1.4",
      "model_name": "LayoutModel",
      "state": {
       "_model_module_version": "~2.1.4",
       "_view_module_version": "~2.1.4"
      }
     }
    },
    "version_major": 1,
    "version_minor": 0
   }
  }
 },
 "nbformat": 4,
 "nbformat_minor": 1
}
